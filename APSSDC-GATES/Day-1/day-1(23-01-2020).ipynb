{
 "cells": [
  {
   "cell_type": "code",
   "execution_count": 2,
   "metadata": {},
   "outputs": [],
   "source": [
    "a=10"
   ]
  },
  {
   "cell_type": "code",
   "execution_count": 3,
   "metadata": {},
   "outputs": [
    {
     "name": "stderr",
     "output_type": "stream",
     "text": [
      "UsageError: option ---->shift+enter not recognized ( allowed: \"nidtN:b:pD:l:rs:T:em:G\" )\n"
     ]
    }
   ],
   "source": [
    "run---->shift+enter"
   ]
  },
  {
   "cell_type": "code",
   "execution_count": null,
   "metadata": {},
   "outputs": [],
   "source": []
  },
  {
   "cell_type": "code",
   "execution_count": null,
   "metadata": {},
   "outputs": [],
   "source": [
    "a+100"
   ]
  },
  {
   "cell_type": "code",
   "execution_count": null,
   "metadata": {},
   "outputs": [],
   "source": [
    "a+20"
   ]
  },
  {
   "cell_type": "code",
   "execution_count": null,
   "metadata": {
    "scrolled": false
   },
   "outputs": [],
   "source": [
    "100+200"
   ]
  },
  {
   "cell_type": "code",
   "execution_count": null,
   "metadata": {},
   "outputs": [],
   "source": [
    "print("
   ]
  },
  {
   "cell_type": "markdown",
   "metadata": {},
   "source": [
    "<!DOCTYPE html>\n",
    "<html>\n",
    "<title>W3.CSS</title>\n",
    "<meta name=\"viewport\" content=\"width=device-width, initial-scale=1\">\n",
    "<link rel=\"stylesheet\" href=\"https://www.w3schools.com/w3css/4/w3.css\">\n",
    "<body>\n",
    "\n",
    "<h1>This Is H1 tag</h1>\n",
    "<h2>This Is H1 tag</h2>\n",
    "<h3>This Is H1 tag</h3>\n",
    "\n",
    "</body>\n",
    "</html> \n"
   ]
  },
  {
   "cell_type": "markdown",
   "metadata": {},
   "source": [
    "# this is first heading\n",
    "## this is Second Heading\n",
    "### This is third Heading\n",
    "#### This is Fourth Heading\n",
    "##### This is Fifth Heading"
   ]
  },
  {
   "cell_type": "code",
   "execution_count": null,
   "metadata": {},
   "outputs": [],
   "source": [
    "# This is comment"
   ]
  },
  {
   "cell_type": "code",
   "execution_count": null,
   "metadata": {},
   "outputs": [],
   "source": [
    "# this is also comment --->ctrl+/"
   ]
  },
  {
   "cell_type": "code",
   "execution_count": null,
   "metadata": {},
   "outputs": [],
   "source": [
    "short cuts---> add new cell below -->select cell -->esc+b\n",
    "               add new cell above -->Select cell -->esc+a\n",
    "               markdown cell --->select cell -->esc+m\n",
    "               comments -->select your content -->ctrl+/\n",
    "              Run Cell --> Select Cell -->shift+enter\n",
    "             cell Delete -->Select Cell -->d d(two times)"
   ]
  },
  {
   "cell_type": "code",
   "execution_count": 4,
   "metadata": {},
   "outputs": [
    {
     "name": "stdout",
     "output_type": "stream",
     "text": [
      "10\n"
     ]
    }
   ],
   "source": [
    "a=input()"
   ]
  },
  {
   "cell_type": "code",
   "execution_count": 6,
   "metadata": {
    "scrolled": true
   },
   "outputs": [
    {
     "name": "stdout",
     "output_type": "stream",
     "text": [
      "20\n"
     ]
    }
   ],
   "source": [
    "b=10\n",
    "print(10+10)"
   ]
  },
  {
   "cell_type": "code",
   "execution_count": 7,
   "metadata": {},
   "outputs": [
    {
     "data": {
      "text/plain": [
       "10"
      ]
     },
     "execution_count": 7,
     "metadata": {},
     "output_type": "execute_result"
    }
   ],
   "source": [
    "b"
   ]
  },
  {
   "cell_type": "markdown",
   "metadata": {},
   "source": [
    "### Operators\n",
    "    - Arithmatic operators\n",
    "        - +,-,*,/,%,//\n",
    "    - logical Operators\n",
    "    - comparision Operators\n",
    "    - bitwise operators\n",
    "    - assignment operators\n",
    "    - membership operators\n",
    "    - identity operators"
   ]
  },
  {
   "cell_type": "code",
   "execution_count": 9,
   "metadata": {},
   "outputs": [
    {
     "name": "stdout",
     "output_type": "stream",
     "text": [
      "Enter a value20\n",
      "Enter b value60\n",
      "addition of  20 And 60 is  80\n",
      "Subtration of  20  and  60 is  -40\n",
      "Multiplication of  20  and  60  is  1200\n",
      "Division of  20  and  60 is  0.3333333333333333\n",
      "floor Division of  20  and  60 is  0\n",
      "Modulo Divsion of  20  and  60 is  20\n"
     ]
    }
   ],
   "source": [
    "# - Arithmatic operators\n",
    "#         - +,-,*,/,%,//\n",
    "a=int(input(\"Enter a value\"))\n",
    "b=int(input(\"Enter b value\"))\n",
    "# print(a+b) #addition of 10 and 20 is 30\n",
    "# By using + Operator to concat two or more string data\n",
    "# print(\"addition of \"+str(a)+\" And \"+str(b)+\" is \"+str(a+b))\n",
    "# By using , operators to Concat Ovrall Data\n",
    "print(\"addition of \",a,\"And\",b,\"is \",a+b)\n",
    "print(\"Subtration of \",a,\" and \",b,\"is \",a-b)\n",
    "print(\"Multiplication of \",a,\" and \",b,\" is \",a*b)\n",
    "print(\"Division of \",a,\" and \",b,\"is \",a/b)\n",
    "print(\"floor Division of \",a,\" and \",b,\"is \",a//b)\n",
    "print(\"Modulo Divsion of \",a,\" and \",b,\"is \",a%b)"
   ]
  },
  {
   "cell_type": "code",
   "execution_count": 11,
   "metadata": {},
   "outputs": [
    {
     "name": "stdout",
     "output_type": "stream",
     "text": [
      "Enter your namevijay\n",
      "my name is  vijay\n"
     ]
    }
   ],
   "source": [
    "name=input(\"Enter your name\")\n",
    "print(\"my name is \",name)"
   ]
  },
  {
   "cell_type": "code",
   "execution_count": 12,
   "metadata": {},
   "outputs": [
    {
     "name": "stdout",
     "output_type": "stream",
     "text": [
      "5\n",
      "f( 5 ) = 40\n"
     ]
    }
   ],
   "source": [
    "# input:5\n",
    "# hint --->f(x)=5*x+x*2+x\n",
    "# output:40\n",
    "    \n",
    "x=int(input())\n",
    "res=5*x+x*2+x\n",
    "print(\"f(\",x,\")\",\"=\",res)"
   ]
  },
  {
   "cell_type": "code",
   "execution_count": 13,
   "metadata": {},
   "outputs": [
    {
     "name": "stdout",
     "output_type": "stream",
     "text": [
      "400\n"
     ]
    }
   ],
   "source": [
    "a=20\n",
    "print(a**2)"
   ]
  },
  {
   "cell_type": "code",
   "execution_count": 14,
   "metadata": {},
   "outputs": [
    {
     "name": "stdout",
     "output_type": "stream",
     "text": [
      "400.0\n"
     ]
    }
   ],
   "source": [
    "import math\n",
    "print(math.pow(a,2))"
   ]
  },
  {
   "cell_type": "code",
   "execution_count": 17,
   "metadata": {},
   "outputs": [
    {
     "name": "stdout",
     "output_type": "stream",
     "text": [
      "10\n",
      "700\n"
     ]
    }
   ],
   "source": [
    "# Task-1\n",
    "# input:3\n",
    "#     hint:f(x)=x^2+8*x+5*x^2+2*x\n",
    "# output:84\n",
    "x=int(input())\n",
    "expression=x**2+8*x+5*x**2+2*x\n",
    "print(expression)\n"
   ]
  },
  {
   "cell_type": "code",
   "execution_count": 22,
   "metadata": {},
   "outputs": [
    {
     "name": "stdout",
     "output_type": "stream",
     "text": [
      "5\n",
      "20\n",
      "600\n"
     ]
    }
   ],
   "source": [
    "# Task-2\n",
    "# input:2 8\n",
    "#     hint:f(x,y)=X^2+y^2+x*y+2*x+2*y+(x+y)\n",
    "# output:114\n",
    "x=int(input())\n",
    "y=int(input())\n",
    "expre=x**2+y**2+x*y+2*x+2*y+(x+y)\n",
    "print(expre)\n"
   ]
  },
  {
   "cell_type": "code",
   "execution_count": 24,
   "metadata": {},
   "outputs": [],
   "source": [
    "# Task-3:\n",
    "# input:5,6, 7\n",
    "#     hint f(x,y,z)=x+y*z+y^3+z^3+(x+Y+z)+2*(x+y+z)+(x+y+z)//2\n",
    "                   \n",
    "# output:669"
   ]
  },
  {
   "cell_type": "code",
   "execution_count": null,
   "metadata": {},
   "outputs": [],
   "source": [
    "shorturl.at/pqvw7"
   ]
  }
 ],
 "metadata": {
  "kernelspec": {
   "display_name": "Python 3",
   "language": "python",
   "name": "python3"
  },
  "language_info": {
   "codemirror_mode": {
    "name": "ipython",
    "version": 3
   },
   "file_extension": ".py",
   "mimetype": "text/x-python",
   "name": "python",
   "nbconvert_exporter": "python",
   "pygments_lexer": "ipython3",
   "version": "3.7.1"
  }
 },
 "nbformat": 4,
 "nbformat_minor": 2
}
