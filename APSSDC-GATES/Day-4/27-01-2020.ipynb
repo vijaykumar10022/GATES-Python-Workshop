{
 "cells": [
  {
   "cell_type": "markdown",
   "metadata": {},
   "source": [
    "## Day Objectives\n",
    "    - Strings\n",
    "    - Functions\n",
    "    - List\n",
    "    - Tuples\n",
    " "
   ]
  },
  {
   "cell_type": "code",
   "execution_count": 3,
   "metadata": {},
   "outputs": [
    {
     "name": "stdout",
     "output_type": "stream",
     "text": [
      "['__add__', '__class__', '__contains__', '__delattr__', '__dir__', '__doc__', '__eq__', '__format__', '__ge__', '__getattribute__', '__getitem__', '__getnewargs__', '__gt__', '__hash__', '__init__', '__init_subclass__', '__iter__', '__le__', '__len__', '__lt__', '__mod__', '__mul__', '__ne__', '__new__', '__reduce__', '__reduce_ex__', '__repr__', '__rmod__', '__rmul__', '__setattr__', '__sizeof__', '__str__', '__subclasshook__', 'capitalize', 'casefold', 'center', 'count', 'encode', 'endswith', 'expandtabs', 'find', 'format', 'format_map', 'index', 'isalnum', 'isalpha', 'isascii', 'isdecimal', 'isdigit', 'isidentifier', 'islower', 'isnumeric', 'isprintable', 'isspace', 'istitle', 'isupper', 'join', 'ljust', 'lower', 'lstrip', 'maketrans', 'partition', 'replace', 'rfind', 'rindex', 'rjust', 'rpartition', 'rsplit', 'rstrip', 'split', 'splitlines', 'startswith', 'strip', 'swapcase', 'title', 'translate', 'upper', 'zfill']\n"
     ]
    }
   ],
   "source": [
    "print(dir(str))"
   ]
  },
  {
   "cell_type": "code",
   "execution_count": 4,
   "metadata": {},
   "outputs": [
    {
     "name": "stdout",
     "output_type": "stream",
     "text": [
      "Apssdc\n"
     ]
    }
   ],
   "source": [
    "#Capitalize\n",
    "s=\"apssdc\"\n",
    "print(s.capitalize())"
   ]
  },
  {
   "cell_type": "code",
   "execution_count": 6,
   "metadata": {},
   "outputs": [
    {
     "name": "stdout",
     "output_type": "stream",
     "text": [
      "p\n",
      "y\n",
      "t\n",
      "h\n",
      "o\n",
      "n\n"
     ]
    }
   ],
   "source": [
    "s=\"python\"\n",
    "# for ch in s:\n",
    "#     print(ch)\n",
    "#or\n",
    "# for i in range(len(s)):\n",
    "#     print(s[i])\n"
   ]
  },
  {
   "cell_type": "code",
   "execution_count": 7,
   "metadata": {},
   "outputs": [
    {
     "data": {
      "text/plain": [
       "97"
      ]
     },
     "execution_count": 7,
     "metadata": {},
     "output_type": "execute_result"
    }
   ],
   "source": [
    "ord('a')# conversion of char to ascii"
   ]
  },
  {
   "cell_type": "code",
   "execution_count": 8,
   "metadata": {},
   "outputs": [
    {
     "data": {
      "text/plain": [
       "'a'"
      ]
     },
     "execution_count": 8,
     "metadata": {},
     "output_type": "execute_result"
    }
   ],
   "source": [
    "chr(97)# conversion of ascii to char"
   ]
  },
  {
   "cell_type": "code",
   "execution_count": 11,
   "metadata": {},
   "outputs": [
    {
     "name": "stdout",
     "output_type": "stream",
     "text": [
      "1 .) 0 ---> \u0000\n",
      "2 .) 1 ---> \u0001\n",
      "3 .) 2 ---> \u0002\n",
      "4 .) 3 ---> \u0003\n",
      "5 .) 4 ---> \u0004\n",
      "6 .) 5 ---> \u0005\n",
      "7 .) 6 ---> \u0006\n",
      "8 .) 7 ---> \u0007\n",
      "9 .) 8 ---> \b\n",
      "10 .) 9 ---> \t\n",
      "11 .) 10 ---> \n",
      "\n",
      "12 .) 11 ---> \u000b",
      "\n",
      "13 .) 12 ---> \f",
      "\n",
      "14 .) 13 ---> \r\n",
      "15 .) 14 ---> \u000e\n",
      "16 .) 15 ---> \u000f\n",
      "17 .) 16 ---> \u0010\n",
      "18 .) 17 ---> \u0011\n",
      "19 .) 18 ---> \u0012\n",
      "20 .) 19 ---> \u0013\n",
      "21 .) 20 ---> \u0014\n",
      "22 .) 21 ---> \u0015\n",
      "23 .) 22 ---> \u0016\n",
      "24 .) 23 ---> \u0017\n",
      "25 .) 24 ---> \u0018\n",
      "26 .) 25 ---> \u0019\n",
      "27 .) 26 ---> \u001a\n",
      "28 .) 27 ---> \u001b\n",
      "29 .) 28 ---> \u001c",
      "\n",
      "30 .) 29 ---> \u001d",
      "\n",
      "31 .) 30 ---> \u001e",
      "\n",
      "32 .) 31 ---> \u001f\n",
      "33 .) 32 --->  \n",
      "34 .) 33 ---> !\n",
      "35 .) 34 ---> \"\n",
      "36 .) 35 ---> #\n",
      "37 .) 36 ---> $\n",
      "38 .) 37 ---> %\n",
      "39 .) 38 ---> &\n",
      "40 .) 39 ---> '\n",
      "41 .) 40 ---> (\n",
      "42 .) 41 ---> )\n",
      "43 .) 42 ---> *\n",
      "44 .) 43 ---> +\n",
      "45 .) 44 ---> ,\n",
      "46 .) 45 ---> -\n",
      "47 .) 46 ---> .\n",
      "48 .) 47 ---> /\n",
      "49 .) 48 ---> 0\n",
      "50 .) 49 ---> 1\n",
      "51 .) 50 ---> 2\n",
      "52 .) 51 ---> 3\n",
      "53 .) 52 ---> 4\n",
      "54 .) 53 ---> 5\n",
      "55 .) 54 ---> 6\n",
      "56 .) 55 ---> 7\n",
      "57 .) 56 ---> 8\n",
      "58 .) 57 ---> 9\n",
      "59 .) 58 ---> :\n",
      "60 .) 59 ---> ;\n",
      "61 .) 60 ---> <\n",
      "62 .) 61 ---> =\n",
      "63 .) 62 ---> >\n",
      "64 .) 63 ---> ?\n",
      "65 .) 64 ---> @\n",
      "66 .) 65 ---> A\n",
      "67 .) 66 ---> B\n",
      "68 .) 67 ---> C\n",
      "69 .) 68 ---> D\n",
      "70 .) 69 ---> E\n",
      "71 .) 70 ---> F\n",
      "72 .) 71 ---> G\n",
      "73 .) 72 ---> H\n",
      "74 .) 73 ---> I\n",
      "75 .) 74 ---> J\n",
      "76 .) 75 ---> K\n",
      "77 .) 76 ---> L\n",
      "78 .) 77 ---> M\n",
      "79 .) 78 ---> N\n",
      "80 .) 79 ---> O\n",
      "81 .) 80 ---> P\n",
      "82 .) 81 ---> Q\n",
      "83 .) 82 ---> R\n",
      "84 .) 83 ---> S\n",
      "85 .) 84 ---> T\n",
      "86 .) 85 ---> U\n",
      "87 .) 86 ---> V\n",
      "88 .) 87 ---> W\n",
      "89 .) 88 ---> X\n",
      "90 .) 89 ---> Y\n",
      "91 .) 90 ---> Z\n",
      "92 .) 91 ---> [\n",
      "93 .) 92 ---> \\\n",
      "94 .) 93 ---> ]\n",
      "95 .) 94 ---> ^\n",
      "96 .) 95 ---> _\n",
      "97 .) 96 ---> `\n",
      "98 .) 97 ---> a\n",
      "99 .) 98 ---> b\n",
      "100 .) 99 ---> c\n",
      "101 .) 100 ---> d\n",
      "102 .) 101 ---> e\n",
      "103 .) 102 ---> f\n",
      "104 .) 103 ---> g\n",
      "105 .) 104 ---> h\n",
      "106 .) 105 ---> i\n",
      "107 .) 106 ---> j\n",
      "108 .) 107 ---> k\n",
      "109 .) 108 ---> l\n",
      "110 .) 109 ---> m\n",
      "111 .) 110 ---> n\n",
      "112 .) 111 ---> o\n",
      "113 .) 112 ---> p\n",
      "114 .) 113 ---> q\n",
      "115 .) 114 ---> r\n",
      "116 .) 115 ---> s\n",
      "117 .) 116 ---> t\n",
      "118 .) 117 ---> u\n",
      "119 .) 118 ---> v\n",
      "120 .) 119 ---> w\n",
      "121 .) 120 ---> x\n",
      "122 .) 121 ---> y\n",
      "123 .) 122 ---> z\n",
      "124 .) 123 ---> {\n",
      "125 .) 124 ---> |\n",
      "126 .) 125 ---> }\n"
     ]
    }
   ],
   "source": [
    "for i in range(0,126):\n",
    "    print(i+1,\".)\",i,\"--->\",chr(i))"
   ]
  },
  {
   "cell_type": "code",
   "execution_count": 13,
   "metadata": {},
   "outputs": [
    {
     "name": "stdout",
     "output_type": "stream",
     "text": [
      "97\n",
      "65\n",
      "32\n"
     ]
    }
   ],
   "source": [
    "c='a'\n",
    "d='A'\n",
    "print(ord(c))\n",
    "print(ord(d))\n",
    "print(ord(c)-ord(d))"
   ]
  },
  {
   "cell_type": "code",
   "execution_count": 21,
   "metadata": {},
   "outputs": [
    {
     "name": "stdout",
     "output_type": "stream",
     "text": [
      "Q\n"
     ]
    }
   ],
   "source": [
    "var='q'\n",
    "print(chr(ord(var)-32))"
   ]
  },
  {
   "cell_type": "code",
   "execution_count": 19,
   "metadata": {},
   "outputs": [
    {
     "name": "stdout",
     "output_type": "stream",
     "text": [
      "r\n"
     ]
    }
   ],
   "source": [
    "var='R'\n",
    "print(chr(ord(var)+32))"
   ]
  },
  {
   "cell_type": "code",
   "execution_count": 22,
   "metadata": {},
   "outputs": [
    {
     "data": {
      "text/plain": [
       "'python'"
      ]
     },
     "execution_count": 22,
     "metadata": {},
     "output_type": "execute_result"
    }
   ],
   "source": [
    "s"
   ]
  },
  {
   "cell_type": "code",
   "execution_count": 33,
   "metadata": {},
   "outputs": [
    {
     "data": {
      "text/plain": [
       "'Python'"
      ]
     },
     "execution_count": 33,
     "metadata": {},
     "output_type": "execute_result"
    }
   ],
   "source": [
    "s1=''\n",
    "#s[-(len(s))] # or s[0]\n",
    "s1=s1+chr(ord(s[0])-32)\n",
    "for i in range(1,len(s)):\n",
    "    s1=s1+s[i]\n",
    "s1\n",
    "# s1=s1+s[1:]\n",
    "# s1"
   ]
  },
  {
   "cell_type": "code",
   "execution_count": 44,
   "metadata": {},
   "outputs": [
    {
     "data": {
      "text/plain": [
       "'             python programming very easy'"
      ]
     },
     "execution_count": 44,
     "metadata": {},
     "output_type": "execute_result"
    }
   ],
   "source": [
    "s=\"PYTHON PROGRAMMING Very Easy\"\n",
    "s.casefold()"
   ]
  },
  {
   "cell_type": "code",
   "execution_count": 52,
   "metadata": {},
   "outputs": [
    {
     "name": "stdout",
     "output_type": "stream",
     "text": [
      "17\n",
      "24\n",
      "Centered String:  ***Python is awesome****\n"
     ]
    }
   ],
   "source": [
    "string = \"Python is awesome\"\n",
    "print(len(string))\n",
    "\n",
    "new_string = string.center(24, '*')\n",
    "print(len(new_string))\n",
    "print(\"Centered String: \", new_string)"
   ]
  },
  {
   "cell_type": "code",
   "execution_count": 57,
   "metadata": {},
   "outputs": [
    {
     "name": "stdout",
     "output_type": "stream",
     "text": [
      "A ---> 1\n",
      "P ---> 3\n",
      "S ---> 3\n",
      "D ---> 1\n",
      "C ---> 1\n",
      "  ---> 2\n",
      "Y ---> 1\n",
      "T ---> 1\n",
      "H ---> 2\n",
      "O ---> 3\n",
      "N ---> 1\n",
      "W ---> 1\n",
      "R ---> 1\n",
      "K ---> 1\n",
      "APSDC YTHONWRK\n"
     ]
    }
   ],
   "source": [
    "# Frequency of character\n",
    "s=\"APSSDC PYTHON WORKSHOP\"\n",
    "s1=\"\"\n",
    "for ch in s:\n",
    "    if (ch not in s1):\n",
    "        print(ch,\"--->\",s.count(ch))\n",
    "        s1=s1+ch\n",
    "print(s1)"
   ]
  },
  {
   "cell_type": "code",
   "execution_count": 58,
   "metadata": {},
   "outputs": [
    {
     "data": {
      "text/plain": [
       "'APSSDC PYTHON WORKSHOP'"
      ]
     },
     "execution_count": 58,
     "metadata": {},
     "output_type": "execute_result"
    }
   ],
   "source": [
    "s"
   ]
  },
  {
   "cell_type": "code",
   "execution_count": 61,
   "metadata": {},
   "outputs": [
    {
     "name": "stdout",
     "output_type": "stream",
     "text": [
      "True\n",
      "True\n"
     ]
    }
   ],
   "source": [
    "# if(s.endswith('P')):\n",
    "#     print(\"True\")\n",
    "    \n",
    "if(s[-1]=='P'):\n",
    "    print(\"True\")"
   ]
  },
  {
   "cell_type": "code",
   "execution_count": 63,
   "metadata": {},
   "outputs": [],
   "source": [
    "s1=s.encode()"
   ]
  },
  {
   "cell_type": "code",
   "execution_count": 64,
   "metadata": {},
   "outputs": [
    {
     "data": {
      "text/plain": [
       "'APSSDC PYTHON WORKSHOP'"
      ]
     },
     "execution_count": 64,
     "metadata": {},
     "output_type": "execute_result"
    }
   ],
   "source": [
    "s1.decode()"
   ]
  },
  {
   "cell_type": "code",
   "execution_count": 68,
   "metadata": {},
   "outputs": [
    {
     "name": "stdout",
     "output_type": "stream",
     "text": [
      "xyz\t12345\tabc\n",
      "xyz     12345   abc\n"
     ]
    }
   ],
   "source": [
    "str = 'xyz\\t12345\\tabc'\n",
    "print(str)\n",
    "# no argument is passed\n",
    "# default tabsize is 8\n",
    "result = str.expandtabs()\n",
    "\n",
    "print(result)"
   ]
  },
  {
   "cell_type": "code",
   "execution_count": 69,
   "metadata": {},
   "outputs": [
    {
     "data": {
      "text/plain": [
       "'APSSDC PYTHON WORKSHOP'"
      ]
     },
     "execution_count": 69,
     "metadata": {},
     "output_type": "execute_result"
    }
   ],
   "source": [
    "s"
   ]
  },
  {
   "cell_type": "code",
   "execution_count": 70,
   "metadata": {},
   "outputs": [
    {
     "data": {
      "text/plain": [
       "1"
      ]
     },
     "execution_count": 70,
     "metadata": {},
     "output_type": "execute_result"
    }
   ],
   "source": [
    "s.find('P') # returns index value"
   ]
  },
  {
   "cell_type": "code",
   "execution_count": 74,
   "metadata": {},
   "outputs": [
    {
     "name": "stdout",
     "output_type": "stream",
     "text": [
      "APSSDC PYTHON WORKSHOP\n",
      "1\n"
     ]
    }
   ],
   "source": [
    "print(s)\n",
    "for ch in range(0,len(s)):\n",
    "    if('P'==s[ch]):\n",
    "        print(ch)\n",
    "        break\n",
    "        "
   ]
  },
  {
   "cell_type": "code",
   "execution_count": 77,
   "metadata": {},
   "outputs": [
    {
     "name": "stdout",
     "output_type": "stream",
     "text": [
      "my name  Vijay my role is  Python Developer i taking salary  27000 my age is  25 my mail id is  vijaykumar.b@gmail.com\n"
     ]
    }
   ],
   "source": [
    "name=\"Vijay\"\n",
    "role=\"Python Developer\"\n",
    "salary=\"27000\"\n",
    "age=\"25\"\n",
    "gmail=\"vijaykumar.b@gmail.com\"\n",
    "print(\"my name \",name,\"my role is \",role,\"i taking salary \",salary,\"my age is \",age,\"my mail id is \",gmail)"
   ]
  },
  {
   "cell_type": "code",
   "execution_count": 79,
   "metadata": {},
   "outputs": [
    {
     "name": "stdout",
     "output_type": "stream",
     "text": [
      "my name Vijaymy role is Python Developer i am  taking salary 27000 my age is 25 my mail id is vijaykumar.b@gmail.com\n"
     ]
    }
   ],
   "source": [
    "print(\"my name {} my role is {} i am  taking salary {} my age is {} my mail id is {}\".format(name,role,salary,age,gmail))"
   ]
  },
  {
   "cell_type": "code",
   "execution_count": 81,
   "metadata": {},
   "outputs": [
    {
     "name": "stdout",
     "output_type": "stream",
     "text": [
      "my name Vijay my role is Python Developer i am  taking salary 27000 my age is 25 my mail id is vijaykumar.b@gmail.com\n"
     ]
    }
   ],
   "source": [
    "print(\"my name {name} my role is {role} i am  taking salary {salary} my age is {age} my mail id is {gmail}\".format(salary=salary,age=age,gmail=gmail,role=role,name=name))"
   ]
  },
  {
   "cell_type": "code",
   "execution_count": 82,
   "metadata": {},
   "outputs": [
    {
     "data": {
      "text/plain": [
       "'APSSDC PYTHON WORKSHOP'"
      ]
     },
     "execution_count": 82,
     "metadata": {},
     "output_type": "execute_result"
    }
   ],
   "source": [
    "s"
   ]
  },
  {
   "cell_type": "code",
   "execution_count": 90,
   "metadata": {},
   "outputs": [
    {
     "data": {
      "text/plain": [
       "1"
      ]
     },
     "execution_count": 90,
     "metadata": {},
     "output_type": "execute_result"
    }
   ],
   "source": [
    "s.index('P')"
   ]
  },
  {
   "cell_type": "code",
   "execution_count": 92,
   "metadata": {},
   "outputs": [
    {
     "data": {
      "text/plain": [
       "False"
      ]
     },
     "execution_count": 92,
     "metadata": {},
     "output_type": "execute_result"
    }
   ],
   "source": [
    "s=\"APSSDC123\"\n",
    "s.isalnum()"
   ]
  },
  {
   "cell_type": "code",
   "execution_count": 95,
   "metadata": {},
   "outputs": [
    {
     "data": {
      "text/plain": [
       "False"
      ]
     },
     "execution_count": 95,
     "metadata": {},
     "output_type": "execute_result"
    }
   ],
   "source": [
    "s=\"APSSDC\"\n",
    "s.isalpha()"
   ]
  },
  {
   "cell_type": "code",
   "execution_count": 96,
   "metadata": {},
   "outputs": [
    {
     "data": {
      "text/plain": [
       "True"
      ]
     },
     "execution_count": 96,
     "metadata": {},
     "output_type": "execute_result"
    }
   ],
   "source": [
    "s=\"103\"\n",
    "s.isascii()"
   ]
  },
  {
   "cell_type": "code",
   "execution_count": 99,
   "metadata": {},
   "outputs": [
    {
     "data": {
      "text/plain": [
       "False"
      ]
     },
     "execution_count": 99,
     "metadata": {},
     "output_type": "execute_result"
    }
   ],
   "source": [
    "s=\"135F6\"\n",
    "s.isdecimal()"
   ]
  },
  {
   "cell_type": "code",
   "execution_count": 100,
   "metadata": {},
   "outputs": [
    {
     "data": {
      "text/plain": [
       "True"
      ]
     },
     "execution_count": 100,
     "metadata": {},
     "output_type": "execute_result"
    }
   ],
   "source": [
    "s='1'\n",
    "s.isdigit()"
   ]
  },
  {
   "cell_type": "code",
   "execution_count": 101,
   "metadata": {},
   "outputs": [
    {
     "data": {
      "text/plain": [
       "True"
      ]
     },
     "execution_count": 101,
     "metadata": {},
     "output_type": "execute_result"
    }
   ],
   "source": [
    "s=\"_012Aas\"\n",
    "s.isidentifier()"
   ]
  },
  {
   "cell_type": "code",
   "execution_count": 107,
   "metadata": {},
   "outputs": [
    {
     "data": {
      "text/plain": [
       "True"
      ]
     },
     "execution_count": 107,
     "metadata": {},
     "output_type": "execute_result"
    }
   ],
   "source": [
    "# s=\"Apssdc\"\n",
    "# s.islower()\n",
    "s=\"APSSDC\"\n",
    "s.isupper()"
   ]
  },
  {
   "cell_type": "code",
   "execution_count": 110,
   "metadata": {},
   "outputs": [
    {
     "data": {
      "text/plain": [
       "True"
      ]
     },
     "execution_count": 110,
     "metadata": {},
     "output_type": "execute_result"
    }
   ],
   "source": [
    "s=\"12364\"\n",
    "s.isnumeric()"
   ]
  },
  {
   "cell_type": "code",
   "execution_count": 122,
   "metadata": {},
   "outputs": [
    {
     "data": {
      "text/plain": [
       "False"
      ]
     },
     "execution_count": 122,
     "metadata": {},
     "output_type": "execute_result"
    }
   ],
   "source": [
    "\n",
    "s=\"\\b APSSDC\"\n",
    "s.isprintable()"
   ]
  },
  {
   "cell_type": "code",
   "execution_count": 124,
   "metadata": {},
   "outputs": [
    {
     "data": {
      "text/plain": [
       "False"
      ]
     },
     "execution_count": 124,
     "metadata": {},
     "output_type": "execute_result"
    }
   ],
   "source": [
    "s=\"\"\n",
    "s.isspace()\n"
   ]
  },
  {
   "cell_type": "code",
   "execution_count": 126,
   "metadata": {},
   "outputs": [
    {
     "data": {
      "text/plain": [
       "False"
      ]
     },
     "execution_count": 126,
     "metadata": {},
     "output_type": "execute_result"
    }
   ],
   "source": [
    "s=\"title\"\n",
    "s.istitle()"
   ]
  },
  {
   "cell_type": "code",
   "execution_count": 137,
   "metadata": {},
   "outputs": [
    {
     "data": {
      "text/plain": [
       "'A P S S D c'"
      ]
     },
     "execution_count": 137,
     "metadata": {},
     "output_type": "execute_result"
    }
   ],
   "source": [
    "s1=\"APSSDc\"\n",
    "s=' '.join(s1)\n",
    "s"
   ]
  },
  {
   "cell_type": "code",
   "execution_count": 142,
   "metadata": {},
   "outputs": [
    {
     "name": "stdout",
     "output_type": "stream",
     "text": [
      "1 8 8 7 4 5 12 14\n"
     ]
    },
    {
     "data": {
      "text/plain": [
       "'1* *8* *8* *7* *4* *5* *1*2* *1*4'"
      ]
     },
     "execution_count": 142,
     "metadata": {},
     "output_type": "execute_result"
    }
   ],
   "source": [
    "s=input()#1 8 8 7 4 5 12 14\n",
    "s1=\"*\".join(s)\n",
    "s1"
   ]
  },
  {
   "cell_type": "code",
   "execution_count": 148,
   "metadata": {},
   "outputs": [
    {
     "data": {
      "text/plain": [
       "'APSSDC PYTHON*******'"
      ]
     },
     "execution_count": 148,
     "metadata": {},
     "output_type": "execute_result"
    }
   ],
   "source": [
    "s=\"APSSDC PYTHON\"\n",
    "s.ljust(20,\"*\")"
   ]
  },
  {
   "cell_type": "code",
   "execution_count": 151,
   "metadata": {},
   "outputs": [
    {
     "data": {
      "text/plain": [
       "'    APSSDC'"
      ]
     },
     "execution_count": 151,
     "metadata": {},
     "output_type": "execute_result"
    }
   ],
   "source": [
    "s=\"    APSSDC    \"\n",
    "s.rstrip()"
   ]
  },
  {
   "cell_type": "code",
   "execution_count": 155,
   "metadata": {},
   "outputs": [
    {
     "data": {
      "text/plain": [
       "'aPSSDC python'"
      ]
     },
     "execution_count": 155,
     "metadata": {},
     "output_type": "execute_result"
    }
   ],
   "source": [
    "s=\"APSSDC python\"\n",
    "s.replace('A','a')"
   ]
  },
  {
   "cell_type": "code",
   "execution_count": 154,
   "metadata": {},
   "outputs": [
    {
     "data": {
      "text/plain": [
       "'APSSDC PYTHON'"
      ]
     },
     "execution_count": 154,
     "metadata": {},
     "output_type": "execute_result"
    }
   ],
   "source": [
    "s=\"APSSDC python\"\n",
    "s.replace('python','PYTHON')"
   ]
  },
  {
   "cell_type": "code",
   "execution_count": 160,
   "metadata": {},
   "outputs": [
    {
     "data": {
      "text/plain": [
       "2"
      ]
     },
     "execution_count": 160,
     "metadata": {},
     "output_type": "execute_result"
    }
   ],
   "source": [
    "s=\"A2PSSDC PYTHON\"\n",
    "s.rfind(s[2:5])"
   ]
  },
  {
   "cell_type": "code",
   "execution_count": 167,
   "metadata": {},
   "outputs": [
    {
     "data": {
      "text/plain": [
       "['10', '20', '30', '40', '50']"
      ]
     },
     "execution_count": 167,
     "metadata": {},
     "output_type": "execute_result"
    }
   ],
   "source": [
    "s=\"10 20 30 40 50\"\n",
    "s=s.rsplit()\n",
    "s"
   ]
  },
  {
   "cell_type": "code",
   "execution_count": 180,
   "metadata": {},
   "outputs": [
    {
     "data": {
      "text/plain": [
       "['APSSDC\\n', 'PYTHON']"
      ]
     },
     "execution_count": 180,
     "metadata": {},
     "output_type": "execute_result"
    }
   ],
   "source": [
    "s=\"APSSDC\\nPYTHON\"\n",
    "s.splitlines(True)"
   ]
  },
  {
   "cell_type": "code",
   "execution_count": 181,
   "metadata": {
    "scrolled": true
   },
   "outputs": [
    {
     "data": {
      "text/plain": [
       "'APSSDC'"
      ]
     },
     "execution_count": 181,
     "metadata": {},
     "output_type": "execute_result"
    }
   ],
   "source": [
    "s=\"    APSSDC         \"\n",
    "s.strip()"
   ]
  },
  {
   "cell_type": "code",
   "execution_count": 182,
   "metadata": {},
   "outputs": [
    {
     "data": {
      "text/plain": [
       "'aPsSdC'"
      ]
     },
     "execution_count": 182,
     "metadata": {},
     "output_type": "execute_result"
    }
   ],
   "source": [
    "s=\"ApSsDc\"\n",
    "s.swapcase()"
   ]
  },
  {
   "cell_type": "code",
   "execution_count": 187,
   "metadata": {},
   "outputs": [
    {
     "data": {
      "text/plain": [
       "'0000APSSDC'"
      ]
     },
     "execution_count": 187,
     "metadata": {},
     "output_type": "execute_result"
    }
   ],
   "source": [
    "s=\"APSSDC\"\n",
    "s.zfill(10)"
   ]
  },
  {
   "cell_type": "code",
   "execution_count": 189,
   "metadata": {},
   "outputs": [
    {
     "name": "stdout",
     "output_type": "stream",
     "text": [
      "['__add__', '__class__', '__contains__', '__delattr__', '__dir__', '__doc__', '__eq__', '__format__', '__ge__', '__getattribute__', '__getitem__', '__getnewargs__', '__gt__', '__hash__', '__init__', '__init_subclass__', '__iter__', '__le__', '__len__', '__lt__', '__mod__', '__mul__', '__ne__', '__new__', '__reduce__', '__reduce_ex__', '__repr__', '__rmod__', '__rmul__', '__setattr__', '__sizeof__', '__str__', '__subclasshook__', 'capitalize', 'casefold', 'center', 'count', 'encode', 'endswith', 'expandtabs', 'find', 'format', 'format_map', 'index', 'isalnum', 'isalpha', 'isascii', 'isdecimal', 'isdigit', 'isidentifier', 'islower', 'isnumeric', 'isprintable', 'isspace', 'istitle', 'isupper', 'join', 'ljust', 'lower', 'lstrip', 'maketrans', 'partition', 'replace', 'rfind', 'rindex', 'rjust', 'rpartition', 'rsplit', 'rstrip', 'split', 'splitlines', 'startswith', 'strip', 'swapcase', 'title', 'translate', 'upper', 'zfill']\n"
     ]
    }
   ],
   "source": [
    "print(dir(str))"
   ]
  },
  {
   "cell_type": "code",
   "execution_count": 192,
   "metadata": {},
   "outputs": [
    {
     "name": "stdout",
     "output_type": "stream",
     "text": [
      "APSDDC@1223!@%pthon\n",
      "total= 19\n",
      "Lower= 5\n",
      "Upper= 6\n",
      "Special= 4\n",
      "Integer= 4\n"
     ]
    }
   ],
   "source": [
    "# input:APSDDC@1223!@%pthon\n",
    "# output:\n",
    "#     total character in string -->\n",
    "#     Upper character in string -->\n",
    "#     lower character in string -->\n",
    "#     special charaters in string -->\n",
    "#     Integer values in string --->\n",
    "    \n",
    "data=input()\n",
    "t,u,l,s,i=0,0,0,0,0\n",
    "for ch in data:\n",
    "    t+=1\n",
    "    if(ch.isupper()):\n",
    "        u+=1\n",
    "    elif(ch.islower()):\n",
    "        l+=1\n",
    "    elif(ch.isnumeric()):\n",
    "        i+=1\n",
    "    else:\n",
    "        s+=1\n",
    "    \n",
    "print(\"total=\",t)\n",
    "print(\"Lower=\",l)\n",
    "print(\"Upper=\",u)\n",
    "print(\"Special=\",s)\n",
    "print(\"Integer=\",i)"
   ]
  },
  {
   "cell_type": "code",
   "execution_count": 193,
   "metadata": {},
   "outputs": [
    {
     "name": "stdout",
     "output_type": "stream",
     "text": [
      "APSDDC@1223!@%pthon\n",
      "total= 19\n",
      "Lower= 5\n",
      "Upper= 6\n",
      "Special= 4\n",
      "Integer= 4\n"
     ]
    }
   ],
   "source": [
    "data=input()\n",
    "t,u,l,s,i=0,0,0,0,0\n",
    "for ch in data:\n",
    "    t+=1\n",
    "    if(ch>='A' and ch<='Z'):\n",
    "        u+=1\n",
    "    elif(ch>='a' and ch<='z'):\n",
    "        l+=1\n",
    "    elif(ch>='0' and ch<='9'):\n",
    "        i+=1\n",
    "    else:\n",
    "        s+=1\n",
    "    \n",
    "print(\"total=\",t)\n",
    "print(\"Lower=\",l)\n",
    "print(\"Upper=\",u)\n",
    "print(\"Special=\",s)\n",
    "print(\"Integer=\",i)\n"
   ]
  },
  {
   "cell_type": "code",
   "execution_count": 194,
   "metadata": {},
   "outputs": [
    {
     "name": "stdout",
     "output_type": "stream",
     "text": [
      "APSDDC@1223!@%pthon\n",
      "total= 19\n",
      "Lower= 5\n",
      "Upper= 6\n",
      "Special= 4\n",
      "Integer= 18\n"
     ]
    }
   ],
   "source": [
    "data=input()\n",
    "t,u,l,s,i=0,0,0,0,0\n",
    "for i in range(len(data)) :\n",
    "    t+=1\n",
    "    if(data[i]>='A' and data[i]<='Z'):\n",
    "        u+=1\n",
    "    elif(data[i]>='a' and data[i]<='z'):\n",
    "        l+=1\n",
    "    elif(data[i]>='0' and data[i]<='9'):\n",
    "        i+=1\n",
    "    else:\n",
    "        s+=1\n",
    "    \n",
    "print(\"total=\",t)\n",
    "print(\"Lower=\",l)\n",
    "print(\"Upper=\",u)\n",
    "print(\"Special=\",s)\n",
    "print(\"Integer=\",i)\n"
   ]
  },
  {
   "cell_type": "code",
   "execution_count": 197,
   "metadata": {},
   "outputs": [
    {
     "data": {
      "text/plain": [
       "48"
      ]
     },
     "execution_count": 197,
     "metadata": {},
     "output_type": "execute_result"
    }
   ],
   "source": [
    "ord('0')"
   ]
  },
  {
   "cell_type": "code",
   "execution_count": 198,
   "metadata": {},
   "outputs": [
    {
     "name": "stdout",
     "output_type": "stream",
     "text": [
      "APSDDC@1223!@%pthon\n",
      "total= 19\n",
      "Lower= 5\n",
      "Upper= 6\n",
      "Special= 4\n",
      "Integer= 18\n"
     ]
    }
   ],
   "source": [
    "data=input()\n",
    "t,u,l,s,i=0,0,0,0,0\n",
    "for i in range(len(data)) :\n",
    "    t+=1\n",
    "    if(ord(data[i])>=65 and ord(data[i])<=90):\n",
    "        u+=1\n",
    "    elif(ord(data[i])>=97 and ord(data[i])<=122):\n",
    "        l+=1\n",
    "    elif(ord(data[i])>=48 and ord(data[i])<=57):\n",
    "        i+=1\n",
    "    else:\n",
    "        s+=1\n",
    "    \n",
    "print(\"total=\",t)\n",
    "print(\"Lower=\",l)\n",
    "print(\"Upper=\",u)\n",
    "print(\"Special=\",s)\n",
    "print(\"Integer=\",i)\n"
   ]
  },
  {
   "cell_type": "code",
   "execution_count": 206,
   "metadata": {},
   "outputs": [
    {
     "name": "stdout",
     "output_type": "stream",
     "text": [
      "2\n",
      "P1Y5y3u49\n",
      "PYyu\n",
      "15349\n",
      "APSSDC123\n",
      "APSSDC\n",
      "123\n"
     ]
    }
   ],
   "source": [
    "# input:2\n",
    "#     \"APSSDC1234567\"\n",
    "#     \"P1Y5y3u49\"\n",
    "# output:APSSDC\n",
    "#        1234567\n",
    "#         PYyu\n",
    "#         15349\n",
    "t=int(input())\n",
    "s1=\"\"\n",
    "s2=\"\"\n",
    "for i in range(t):\n",
    "    data=input()\n",
    "    for ch in data:\n",
    "        if(ch.isnumeric()):\n",
    "            s1=s1+ch\n",
    "        if(ch.isalpha()):\n",
    "            s2=s2+ch\n",
    "    print(s2)\n",
    "    print(s1)\n",
    "    s1=\"\"\n",
    "    s2=\"\"\n",
    "    \n",
    "    "
   ]
  },
  {
   "cell_type": "code",
   "execution_count": 210,
   "metadata": {},
   "outputs": [
    {
     "name": "stdout",
     "output_type": "stream",
     "text": [
      "హాయ్ స్వాగతం Apssdc పైథాన్ వర్క్‌షాప్\n",
      "్యాహ ంతగావ్స cdsspA ్నాథైప ్పాష‌్క్రవ \n"
     ]
    }
   ],
   "source": [
    "# input:\"Hi Welcome to Apssdc Python Workshop\"\n",
    "# output:\"iH emocleW ot cdsspA ...\"\n",
    "data=input()\n",
    "data=data.split()\n",
    "s=\"\"\n",
    "for word in data:\n",
    "    s=s+word[::-1]\n",
    "    s=s+\" \"\n",
    "print(s)"
   ]
  },
  {
   "cell_type": "code",
   "execution_count": 221,
   "metadata": {},
   "outputs": [
    {
     "data": {
      "text/plain": [
       "'vijayvijayvijayvijayvijay'"
      ]
     },
     "execution_count": 221,
     "metadata": {},
     "output_type": "execute_result"
    }
   ],
   "source": [
    "\"vijay\"*5"
   ]
  },
  {
   "cell_type": "code",
   "execution_count": 3,
   "metadata": {},
   "outputs": [
    {
     "name": "stdout",
     "output_type": "stream",
     "text": [
      "vijay2kumar3apssdc5python4\n",
      "vijaykumarapssdcpython\n",
      "2354\n"
     ]
    }
   ],
   "source": [
    "# input:\"vijay2kumar3apssdc5python4\"\n",
    "# output:vijayvijay\n",
    "#        kumarkumarkumar\n",
    "#         apssdcapssdcapssdcapssdcapssdc\n",
    "#         pythonpythonpythonpython\n",
    "data=input()\n",
    "str_data=\"\"\n",
    "int_data=\"\"\n",
    "temp_str=\"\"\n",
    "for ch in data:\n",
    "    if(ch.isalpha()):\n",
    "        temp_str=temp_str+ch\n",
    "    if(ch.isnumeric()):\n",
    "        str_data=str_data+temp_str\n",
    "        int_data=int_data+ch\n",
    "        temp_str=\"\"\n",
    "print(str_data)\n",
    "print(int_data)\n",
    "    \n"
   ]
  },
  {
   "cell_type": "code",
   "execution_count": 6,
   "metadata": {},
   "outputs": [
    {
     "name": "stdout",
     "output_type": "stream",
     "text": [
      "Ananthapur5nellore5kurnool5kadapa3\n",
      "AnanthapurAnanthapurAnanthapurAnanthapurAnanthapur\n",
      "nellorenellorenellorenellorenellore\n",
      "kurnoolkurnoolkurnoolkurnoolkurnool\n",
      "kadapakadapakadapa\n"
     ]
    }
   ],
   "source": [
    "# input:\"vijay2kumar3apssdc5python4\"\n",
    "# output:vijayvijay\n",
    "#        kumarkumarkumar\n",
    "#         apssdcapssdcapssdcapssdcapssdc\n",
    "#         pythonpythonpythonpython\n",
    "data=input()\n",
    "str_data=\"\"\n",
    "int_data=\"\"\n",
    "temp_str=\"\"\n",
    "for ch in data:\n",
    "    if(ch.isalpha()):\n",
    "        temp_str=temp_str+ch\n",
    "    if(ch.isnumeric()):\n",
    "        str_data=str_data+temp_str\n",
    "        int_data=int_data+ch\n",
    "        print(temp_str*int(ch))\n",
    "        temp_str=\"\"\n",
    "\n",
    "    \n"
   ]
  },
  {
   "cell_type": "markdown",
   "metadata": {},
   "source": [
    "### Functions\n",
    "    - based on arguments and return values\n",
    "        - funtion with arguments and with return values\n",
    "            input:main() -->input values\n",
    "            output:main() -->output values\n",
    "        - funtion with arguments and with out return value\n",
    "            input:main() -->input values\n",
    "            output: sub function -->output values\n",
    "        - funtion with out arguments and with return value\n",
    "             input:sub function -->input values\n",
    "             output:main() -->output values\n",
    "        - funtion with out arguments and with out return values\n",
    "            input:sub() -->input values\n",
    "            output:sub() -->output values\n",
    "        "
   ]
  },
  {
   "cell_type": "code",
   "execution_count": 11,
   "metadata": {},
   "outputs": [
    {
     "name": "stdout",
     "output_type": "stream",
     "text": [
      "30\n",
      "130\n"
     ]
    }
   ],
   "source": [
    "# - funtion with arguments and with return values\n",
    "#             input:main() -->input values\n",
    "#             output:main() -->output values\n",
    "# syntax:\n",
    "#     def functionname(arguments):\n",
    "#         statements\n",
    "# def name_org(name,org):\n",
    "#     print(\"my name is {} and  my organization is {}\".format(name,org))\n",
    "# name=input()\n",
    "# org=input()\n",
    "# name_org(name,org) \n",
    "#example\n",
    "def adding(a,b):\n",
    "    return a+b\n",
    "var=adding(10,20)\n",
    "print(var)\n",
    "print(adding(50,80))"
   ]
  },
  {
   "cell_type": "code",
   "execution_count": 12,
   "metadata": {},
   "outputs": [
    {
     "name": "stdout",
     "output_type": "stream",
     "text": [
      "-30\n"
     ]
    }
   ],
   "source": [
    "# - funtion with arguments and with out return value\n",
    "#         input:main() -->input values\n",
    "#         output: sub function -->output values\n",
    "def subtration(a,b):\n",
    "    print(a-b)\n",
    "subtration(20,50)"
   ]
  },
  {
   "cell_type": "code",
   "execution_count": 2,
   "metadata": {},
   "outputs": [
    {
     "name": "stdout",
     "output_type": "stream",
     "text": [
      "50\n",
      "20\n",
      "1000\n",
      "50\n",
      "60\n",
      "3000\n"
     ]
    }
   ],
   "source": [
    "# - funtion with out arguments and with return value\n",
    "#          input:sub function -->input values\n",
    "#          output:main() -->output values\n",
    "def mul():\n",
    "    v1=int(input())\n",
    "    v2=int(input())\n",
    "    return v1*v2\n",
    "var=mul()\n",
    "print(var)\n",
    "print(mul())"
   ]
  },
  {
   "cell_type": "code",
   "execution_count": 1,
   "metadata": {},
   "outputs": [
    {
     "name": "stdout",
     "output_type": "stream",
     "text": [
      "10\n",
      "20\n",
      "2\n"
     ]
    }
   ],
   "source": [
    "# - funtion with out arguments and with out return values\n",
    "#         input:sub() -->input values\n",
    "#         output:sub() -->output values\n",
    "def div():\n",
    "    n=int(input())\n",
    "    n1=int(input())\n",
    "    print(n1//n)\n",
    "div()"
   ]
  },
  {
   "cell_type": "code",
   "execution_count": 4,
   "metadata": {},
   "outputs": [
    {
     "name": "stdout",
     "output_type": "stream",
     "text": [
      "70\n"
     ]
    }
   ],
   "source": [
    "# -->positional Arguments\n",
    "\n",
    "def hello(a,b=20):\n",
    "    print(a+b)\n",
    "hello(50)"
   ]
  },
  {
   "cell_type": "code",
   "execution_count": 5,
   "metadata": {},
   "outputs": [
    {
     "name": "stdout",
     "output_type": "stream",
     "text": [
      "(10, 20, 30, 40, 50)\n",
      "{'name': 'vijay', 'org': 'APSSDC'}\n"
     ]
    }
   ],
   "source": [
    "# -->keyword arguments\n",
    "def keyword(*data1,**data2):\n",
    "    print(data1)\n",
    "    print(data2)\n",
    "keyword(10,20,30,40,50,name=\"vijay\",org=\"APSSDC\")"
   ]
  },
  {
   "cell_type": "markdown",
   "metadata": {},
   "source": [
    "#### lambda\n",
    "    - anonymous funtion"
   ]
  },
  {
   "cell_type": "code",
   "execution_count": 6,
   "metadata": {},
   "outputs": [],
   "source": [
    "add= lambda x,y:x+y\n"
   ]
  },
  {
   "cell_type": "code",
   "execution_count": 7,
   "metadata": {},
   "outputs": [
    {
     "data": {
      "text/plain": [
       "30"
      ]
     },
     "execution_count": 7,
     "metadata": {},
     "output_type": "execute_result"
    }
   ],
   "source": [
    "add(10,20)"
   ]
  },
  {
   "cell_type": "code",
   "execution_count": 8,
   "metadata": {},
   "outputs": [],
   "source": [
    "even=lambda n : n%2==0\n"
   ]
  },
  {
   "cell_type": "code",
   "execution_count": 9,
   "metadata": {},
   "outputs": [
    {
     "data": {
      "text/plain": [
       "False"
      ]
     },
     "execution_count": 9,
     "metadata": {},
     "output_type": "execute_result"
    }
   ],
   "source": [
    "even(5)"
   ]
  },
  {
   "cell_type": "code",
   "execution_count": 10,
   "metadata": {},
   "outputs": [
    {
     "data": {
      "text/plain": [
       "True"
      ]
     },
     "execution_count": 10,
     "metadata": {},
     "output_type": "execute_result"
    }
   ],
   "source": [
    "even(6)"
   ]
  },
  {
   "cell_type": "markdown",
   "metadata": {},
   "source": [
    "### Map -function"
   ]
  },
  {
   "cell_type": "code",
   "execution_count": 13,
   "metadata": {},
   "outputs": [],
   "source": [
    "l=[1,2,3,4,5,6]\n",
    "# map(datatype/value,iterable)\n",
    "data=list(map(str,l))"
   ]
  },
  {
   "cell_type": "code",
   "execution_count": 14,
   "metadata": {},
   "outputs": [
    {
     "data": {
      "text/plain": [
       "['1', '2', '3', '4', '5', '6']"
      ]
     },
     "execution_count": 14,
     "metadata": {},
     "output_type": "execute_result"
    }
   ],
   "source": [
    "data"
   ]
  },
  {
   "cell_type": "code",
   "execution_count": 15,
   "metadata": {},
   "outputs": [
    {
     "data": {
      "text/plain": [
       "'123456'"
      ]
     },
     "execution_count": 15,
     "metadata": {},
     "output_type": "execute_result"
    }
   ],
   "source": [
    "data=''.join(data)\n",
    "data"
   ]
  },
  {
   "cell_type": "code",
   "execution_count": 16,
   "metadata": {},
   "outputs": [
    {
     "data": {
      "text/plain": [
       "True"
      ]
     },
     "execution_count": 16,
     "metadata": {},
     "output_type": "execute_result"
    }
   ],
   "source": [
    "even(4)"
   ]
  },
  {
   "cell_type": "code",
   "execution_count": 17,
   "metadata": {},
   "outputs": [
    {
     "data": {
      "text/plain": [
       "[1, 2, 3, 4, 5, 6]"
      ]
     },
     "execution_count": 17,
     "metadata": {},
     "output_type": "execute_result"
    }
   ],
   "source": [
    "l"
   ]
  },
  {
   "cell_type": "code",
   "execution_count": 18,
   "metadata": {},
   "outputs": [
    {
     "data": {
      "text/plain": [
       "[False, True, False, True, False, True]"
      ]
     },
     "execution_count": 18,
     "metadata": {},
     "output_type": "execute_result"
    }
   ],
   "source": [
    "list(map(even,l))"
   ]
  },
  {
   "cell_type": "markdown",
   "metadata": {},
   "source": [
    "### Filter funtion"
   ]
  },
  {
   "cell_type": "code",
   "execution_count": 21,
   "metadata": {},
   "outputs": [
    {
     "data": {
      "text/plain": [
       "[2, 4, 6]"
      ]
     },
     "execution_count": 21,
     "metadata": {},
     "output_type": "execute_result"
    }
   ],
   "source": [
    "list(filter(even,l))"
   ]
  },
  {
   "cell_type": "code",
   "execution_count": 22,
   "metadata": {},
   "outputs": [],
   "source": [
    "odd=lambda o: o%2==1\n"
   ]
  },
  {
   "cell_type": "code",
   "execution_count": 23,
   "metadata": {},
   "outputs": [
    {
     "data": {
      "text/plain": [
       "[1, 3, 5]"
      ]
     },
     "execution_count": 23,
     "metadata": {},
     "output_type": "execute_result"
    }
   ],
   "source": [
    "list(filter(odd,l))"
   ]
  },
  {
   "cell_type": "markdown",
   "metadata": {},
   "source": [
    "#### list\n"
   ]
  },
  {
   "cell_type": "code",
   "execution_count": 24,
   "metadata": {},
   "outputs": [
    {
     "name": "stdout",
     "output_type": "stream",
     "text": [
      "['__add__', '__class__', '__contains__', '__delattr__', '__delitem__', '__dir__', '__doc__', '__eq__', '__format__', '__ge__', '__getattribute__', '__getitem__', '__gt__', '__hash__', '__iadd__', '__imul__', '__init__', '__init_subclass__', '__iter__', '__le__', '__len__', '__lt__', '__mul__', '__ne__', '__new__', '__reduce__', '__reduce_ex__', '__repr__', '__reversed__', '__rmul__', '__setattr__', '__setitem__', '__sizeof__', '__str__', '__subclasshook__', 'append', 'clear', 'copy', 'count', 'extend', 'index', 'insert', 'pop', 'remove', 'reverse', 'sort']\n"
     ]
    }
   ],
   "source": [
    "print(dir(list))"
   ]
  },
  {
   "cell_type": "code",
   "execution_count": 25,
   "metadata": {},
   "outputs": [],
   "source": [
    "l=[1,2,3,4,5,6,7]\n"
   ]
  },
  {
   "cell_type": "code",
   "execution_count": 29,
   "metadata": {},
   "outputs": [
    {
     "data": {
      "text/plain": [
       "6"
      ]
     },
     "execution_count": 29,
     "metadata": {},
     "output_type": "execute_result"
    }
   ],
   "source": [
    "l[0]\n",
    "l[1]\n",
    "l[-1]\n",
    "l[-2]"
   ]
  },
  {
   "cell_type": "code",
   "execution_count": 30,
   "metadata": {},
   "outputs": [
    {
     "data": {
      "text/plain": [
       "[3, 4, 5, 6, 7]"
      ]
     },
     "execution_count": 30,
     "metadata": {},
     "output_type": "execute_result"
    }
   ],
   "source": [
    "l[2:]"
   ]
  },
  {
   "cell_type": "code",
   "execution_count": 31,
   "metadata": {},
   "outputs": [
    {
     "data": {
      "text/plain": [
       "[3, 4]"
      ]
     },
     "execution_count": 31,
     "metadata": {},
     "output_type": "execute_result"
    }
   ],
   "source": [
    "l[2:4]"
   ]
  },
  {
   "cell_type": "code",
   "execution_count": 33,
   "metadata": {},
   "outputs": [
    {
     "data": {
      "text/plain": [
       "[4, 5]"
      ]
     },
     "execution_count": 33,
     "metadata": {},
     "output_type": "execute_result"
    }
   ],
   "source": [
    "l[-4:-2]"
   ]
  },
  {
   "cell_type": "code",
   "execution_count": 34,
   "metadata": {},
   "outputs": [
    {
     "data": {
      "text/plain": [
       "[7, 6, 5, 4, 3, 2, 1]"
      ]
     },
     "execution_count": 34,
     "metadata": {},
     "output_type": "execute_result"
    }
   ],
   "source": [
    "l[::-1]"
   ]
  },
  {
   "cell_type": "code",
   "execution_count": 36,
   "metadata": {},
   "outputs": [
    {
     "name": "stdout",
     "output_type": "stream",
     "text": [
      "['__add__', '__class__', '__contains__', '__delattr__', '__delitem__', '__dir__', '__doc__', '__eq__', '__format__', '__ge__', '__getattribute__', '__getitem__', '__gt__', '__hash__', '__iadd__', '__imul__', '__init__', '__init_subclass__', '__iter__', '__le__', '__len__', '__lt__', '__mul__', '__ne__', '__new__', '__reduce__', '__reduce_ex__', '__repr__', '__reversed__', '__rmul__', '__setattr__', '__setitem__', '__sizeof__', '__str__', '__subclasshook__', 'append', 'clear', 'copy', 'count', 'extend', 'index', 'insert', 'pop', 'remove', 'reverse', 'sort']\n"
     ]
    }
   ],
   "source": [
    "print(dir(l))"
   ]
  },
  {
   "cell_type": "code",
   "execution_count": 37,
   "metadata": {},
   "outputs": [
    {
     "data": {
      "text/plain": [
       "[1, 2, 3, 4, 5, 6, 7]"
      ]
     },
     "execution_count": 37,
     "metadata": {},
     "output_type": "execute_result"
    }
   ],
   "source": [
    "l"
   ]
  },
  {
   "cell_type": "code",
   "execution_count": 40,
   "metadata": {},
   "outputs": [
    {
     "name": "stdout",
     "output_type": "stream",
     "text": [
      "[2, 4, 6]\n",
      "[1, 3, 5, 7]\n"
     ]
    }
   ],
   "source": [
    "l2=[]\n",
    "l3=[]\n",
    "for value in l:\n",
    "    if(even(value)):\n",
    "        l2.append(value)\n",
    "    if(odd(value)):\n",
    "        l3.append(value)\n",
    "print(l2)\n",
    "print(l3)"
   ]
  },
  {
   "cell_type": "code",
   "execution_count": 41,
   "metadata": {},
   "outputs": [
    {
     "data": {
      "text/plain": [
       "[1, 3, 5, 7]"
      ]
     },
     "execution_count": 41,
     "metadata": {},
     "output_type": "execute_result"
    }
   ],
   "source": [
    "l3"
   ]
  },
  {
   "cell_type": "code",
   "execution_count": 42,
   "metadata": {},
   "outputs": [],
   "source": [
    "l3.clear()"
   ]
  },
  {
   "cell_type": "code",
   "execution_count": 43,
   "metadata": {},
   "outputs": [
    {
     "data": {
      "text/plain": [
       "[]"
      ]
     },
     "execution_count": 43,
     "metadata": {},
     "output_type": "execute_result"
    }
   ],
   "source": [
    "l3"
   ]
  },
  {
   "cell_type": "code",
   "execution_count": 44,
   "metadata": {},
   "outputs": [
    {
     "data": {
      "text/plain": [
       "[2, 4, 6]"
      ]
     },
     "execution_count": 44,
     "metadata": {},
     "output_type": "execute_result"
    }
   ],
   "source": [
    "l2"
   ]
  },
  {
   "cell_type": "code",
   "execution_count": 45,
   "metadata": {},
   "outputs": [
    {
     "data": {
      "text/plain": [
       "[2, 4, 6]"
      ]
     },
     "execution_count": 45,
     "metadata": {},
     "output_type": "execute_result"
    }
   ],
   "source": [
    "l3=l2.copy()\n",
    "l3"
   ]
  },
  {
   "cell_type": "code",
   "execution_count": 46,
   "metadata": {},
   "outputs": [],
   "source": [
    "l2.append(10)"
   ]
  },
  {
   "cell_type": "code",
   "execution_count": 47,
   "metadata": {},
   "outputs": [
    {
     "data": {
      "text/plain": [
       "[2, 4, 6]"
      ]
     },
     "execution_count": 47,
     "metadata": {},
     "output_type": "execute_result"
    }
   ],
   "source": [
    "l3"
   ]
  },
  {
   "cell_type": "code",
   "execution_count": 48,
   "metadata": {},
   "outputs": [
    {
     "data": {
      "text/plain": [
       "2"
      ]
     },
     "execution_count": 48,
     "metadata": {},
     "output_type": "execute_result"
    }
   ],
   "source": [
    "l=[1,2,3,4,1,2,3,45]\n",
    "l.count(1)"
   ]
  },
  {
   "cell_type": "code",
   "execution_count": 49,
   "metadata": {},
   "outputs": [
    {
     "data": {
      "text/plain": [
       "[1, 2, 3, 4, 1, 2, 3, 45]"
      ]
     },
     "execution_count": 49,
     "metadata": {},
     "output_type": "execute_result"
    }
   ],
   "source": [
    "l"
   ]
  },
  {
   "cell_type": "code",
   "execution_count": 50,
   "metadata": {},
   "outputs": [],
   "source": [
    "l.extend([1,5,7,8,7])"
   ]
  },
  {
   "cell_type": "code",
   "execution_count": 51,
   "metadata": {},
   "outputs": [
    {
     "data": {
      "text/plain": [
       "[1, 2, 3, 4, 1, 2, 3, 45, 1, 5, 7, 8, 7]"
      ]
     },
     "execution_count": 51,
     "metadata": {},
     "output_type": "execute_result"
    }
   ],
   "source": [
    "l"
   ]
  },
  {
   "cell_type": "code",
   "execution_count": null,
   "metadata": {},
   "outputs": [],
   "source": []
  },
  {
   "cell_type": "code",
   "execution_count": 52,
   "metadata": {},
   "outputs": [
    {
     "data": {
      "text/plain": [
       "1"
      ]
     },
     "execution_count": 52,
     "metadata": {},
     "output_type": "execute_result"
    }
   ],
   "source": [
    "l.index(2)"
   ]
  },
  {
   "cell_type": "code",
   "execution_count": 54,
   "metadata": {},
   "outputs": [],
   "source": [
    "l.insert(1,10)"
   ]
  },
  {
   "cell_type": "code",
   "execution_count": 55,
   "metadata": {},
   "outputs": [
    {
     "data": {
      "text/plain": [
       "[1, 10, 2, 3, 4, 1, 2, 3, 45, 1, 5, 7, 8, 7]"
      ]
     },
     "execution_count": 55,
     "metadata": {},
     "output_type": "execute_result"
    }
   ],
   "source": [
    "l"
   ]
  },
  {
   "cell_type": "code",
   "execution_count": 57,
   "metadata": {},
   "outputs": [
    {
     "data": {
      "text/plain": [
       "7"
      ]
     },
     "execution_count": 57,
     "metadata": {},
     "output_type": "execute_result"
    }
   ],
   "source": [
    "l.pop()"
   ]
  },
  {
   "cell_type": "code",
   "execution_count": 58,
   "metadata": {},
   "outputs": [
    {
     "data": {
      "text/plain": [
       "[1, 10, 2, 3, 4, 1, 2, 3, 45, 1, 5, 7, 8]"
      ]
     },
     "execution_count": 58,
     "metadata": {},
     "output_type": "execute_result"
    }
   ],
   "source": [
    "l"
   ]
  },
  {
   "cell_type": "code",
   "execution_count": 59,
   "metadata": {},
   "outputs": [],
   "source": [
    "l.remove(45)"
   ]
  },
  {
   "cell_type": "code",
   "execution_count": 60,
   "metadata": {},
   "outputs": [
    {
     "data": {
      "text/plain": [
       "[1, 10, 2, 3, 4, 1, 2, 3, 1, 5, 7, 8]"
      ]
     },
     "execution_count": 60,
     "metadata": {},
     "output_type": "execute_result"
    }
   ],
   "source": [
    "l"
   ]
  },
  {
   "cell_type": "code",
   "execution_count": 61,
   "metadata": {},
   "outputs": [
    {
     "data": {
      "text/plain": [
       "[1, 10, 2, 3, 4, 1, 2, 3, 1, 5, 7, 8]"
      ]
     },
     "execution_count": 61,
     "metadata": {},
     "output_type": "execute_result"
    }
   ],
   "source": [
    "l"
   ]
  },
  {
   "cell_type": "code",
   "execution_count": 62,
   "metadata": {},
   "outputs": [],
   "source": [
    "l.reverse()"
   ]
  },
  {
   "cell_type": "code",
   "execution_count": 63,
   "metadata": {},
   "outputs": [
    {
     "data": {
      "text/plain": [
       "[8, 7, 5, 1, 3, 2, 1, 4, 3, 2, 10, 1]"
      ]
     },
     "execution_count": 63,
     "metadata": {},
     "output_type": "execute_result"
    }
   ],
   "source": [
    "l"
   ]
  },
  {
   "cell_type": "code",
   "execution_count": 64,
   "metadata": {},
   "outputs": [
    {
     "data": {
      "text/plain": [
       "[1, 10, 2, 3, 4, 1, 2, 3, 1, 5, 7, 8]"
      ]
     },
     "execution_count": 64,
     "metadata": {},
     "output_type": "execute_result"
    }
   ],
   "source": [
    "l[::-1]"
   ]
  },
  {
   "cell_type": "code",
   "execution_count": 67,
   "metadata": {},
   "outputs": [],
   "source": [
    "l.sort(reverse=True)"
   ]
  },
  {
   "cell_type": "code",
   "execution_count": 68,
   "metadata": {},
   "outputs": [
    {
     "data": {
      "text/plain": [
       "[10, 8, 7, 5, 4, 3, 3, 2, 2, 1, 1, 1]"
      ]
     },
     "execution_count": 68,
     "metadata": {},
     "output_type": "execute_result"
    }
   ],
   "source": [
    "l"
   ]
  },
  {
   "cell_type": "code",
   "execution_count": 71,
   "metadata": {},
   "outputs": [],
   "source": [
    "l2=sorted(l,reverse=True)"
   ]
  },
  {
   "cell_type": "code",
   "execution_count": 72,
   "metadata": {},
   "outputs": [
    {
     "data": {
      "text/plain": [
       "[10, 8, 7, 5, 4, 3, 3, 2, 2, 1, 1, 1]"
      ]
     },
     "execution_count": 72,
     "metadata": {},
     "output_type": "execute_result"
    }
   ],
   "source": [
    "l2"
   ]
  },
  {
   "cell_type": "code",
   "execution_count": 76,
   "metadata": {},
   "outputs": [
    {
     "name": "stdout",
     "output_type": "stream",
     "text": [
      "5687 ---> 6\n",
      "5688 ---> 6\n",
      "5689 ---> 6\n",
      "5690 ---> 6\n"
     ]
    }
   ],
   "source": [
    "# to find no of divisiblities for given number\n",
    "n1=5687\n",
    "n2=5690\n",
    "for k in range(n1,n2+1):\n",
    "    c=0\n",
    "    for i in range(1,k+1):\n",
    "        if(n%i==0):\n",
    "            c=c+1\n",
    "    print(k,\"--->\",c)\n"
   ]
  },
  {
   "cell_type": "markdown",
   "metadata": {},
   "source": [
    "#### Given Number is prime or not"
   ]
  },
  {
   "cell_type": "code",
   "execution_count": 80,
   "metadata": {},
   "outputs": [
    {
     "data": {
      "text/plain": [
       "True"
      ]
     },
     "execution_count": 80,
     "metadata": {},
     "output_type": "execute_result"
    }
   ],
   "source": [
    "# input:7\n",
    "# output:yes 7 is prime number\n",
    "def isprime(n):\n",
    "    c=0\n",
    "    for i in range(1,n+1):\n",
    "        if(n%i==0):\n",
    "            c=c+1\n",
    "    if(c==2):\n",
    "        return True\n",
    "isprime(7)\n"
   ]
  },
  {
   "cell_type": "code",
   "execution_count": 89,
   "metadata": {},
   "outputs": [
    {
     "name": "stdout",
     "output_type": "stream",
     "text": [
      "8000 8690\n",
      "8009 8011 8017 8039 8053 8059 8069 8081 8087 8089 8093 8101 8111 8117 8123 8147 8161 8167 8171 8179 8191 8209 8219 8221 8231 8233 8237 8243 8263 8269 8273 8287 8291 8293 8297 8311 8317 8329 8353 8363 8369 8377 8387 8389 8419 8423 8429 8431 8443 8447 8461 8467 8501 8513 8521 8527 8537 8539 8543 8563 8573 8581 8597 8599 8609 8623 8627 8629 8641 8647 8663 8669 8677 8681 8689 "
     ]
    }
   ],
   "source": [
    "# input:1 50\n",
    "# output:2 3 5 7 11 .....\n",
    "# prime_ranges=input()\n",
    "# prime_ranges=prime_ranges.split()\n",
    "# prime_ranges=list(map(int,prime_ranges))\n",
    "# print(prime_ranges)\n",
    "\n",
    "#or\n",
    "prime_ranges=list(map(int,input().split()))\n",
    "s=prime_ranges[0]\n",
    "e=prime_ranges[1]\n",
    "for i in range(s,e):\n",
    "    if(isprime(i)):\n",
    "        print(i,end=\" \")"
   ]
  },
  {
   "cell_type": "code",
   "execution_count": null,
   "metadata": {},
   "outputs": [],
   "source": [
    "Task->6\n",
    "input:7\n",
    "    hint:\n",
    "    prime-->2 3 5 7 11 13 17\n",
    "    even-->2 4 6 8 10 12 14\n",
    "output:2 2 3 4 5 6 7 8 11 10 13 12 17 14\n",
    "\n"
   ]
  },
  {
   "cell_type": "code",
   "execution_count": 93,
   "metadata": {},
   "outputs": [
    {
     "name": "stdout",
     "output_type": "stream",
     "text": [
      "[1, 2, 3, 4, 5, 6, 7, 8, 9, 10, 12, 18]\n",
      "7\n"
     ]
    }
   ],
   "source": [
    "list1=[8,10,6,18,12,3,9,1,2,5,4,7]\n",
    "list1.sort()\n",
    "print(list1)\n",
    "print(list1[len(list1)//2])"
   ]
  },
  {
   "cell_type": "code",
   "execution_count": 109,
   "metadata": {},
   "outputs": [
    {
     "data": {
      "text/plain": [
       "[6, 5, 4, 3, 2, 1, 7, 8, 9, 10, 12, 18]"
      ]
     },
     "execution_count": 109,
     "metadata": {},
     "output_type": "execute_result"
    }
   ],
   "source": [
    "# input:\n",
    "#     list1=[8,10,6,18,12,3,9,1,2,5,4,7]\n",
    "# output:\n",
    "#     list2=[6,5,4,3,2,1,7,8,9,10,12,15]\n",
    "#     list3=[1,2,3,4,5,6,7,18,12,10,9,8]\n",
    "#     list4=[6,5,4,3,2,1,7,18,12,10,9,8]\n",
    "list1=[8,10,6,18,12,3,9,1,2,5,4,7]\n",
    "sorted_data=sorted(list1)\n",
    "mid=len(list1)//2\n",
    "mid_Value=sorted_data[len(list1)//2]\n",
    "# l_data=sorted(sorted_data[:mid],reverse=True)\n",
    "# r_data=sorted_data[mid+1:]\n",
    "# final_data=l_data+[mid_Value]+r_data\n",
    "# final_data\n",
    "list2=sorted(sorted_data[:mid],reverse=True)+[mid_Value]+sorted_data[mid+1:]"
   ]
  },
  {
   "cell_type": "code",
   "execution_count": 98,
   "metadata": {},
   "outputs": [
    {
     "data": {
      "text/plain": [
       "[1, 2, 3, 4, 5, 3, 6, 7, 8, 9]"
      ]
     },
     "execution_count": 98,
     "metadata": {},
     "output_type": "execute_result"
    }
   ],
   "source": [
    "list1=[1,2,3,4,5]\n",
    "list2=[3,6,7,8,9]\n",
    "list1+list2"
   ]
  },
  {
   "cell_type": "code",
   "execution_count": null,
   "metadata": {},
   "outputs": [],
   "source": []
  }
 ],
 "metadata": {
  "kernelspec": {
   "display_name": "Python 3",
   "language": "python",
   "name": "python3"
  },
  "language_info": {
   "codemirror_mode": {
    "name": "ipython",
    "version": 3
   },
   "file_extension": ".py",
   "mimetype": "text/x-python",
   "name": "python",
   "nbconvert_exporter": "python",
   "pygments_lexer": "ipython3",
   "version": "3.7.1"
  }
 },
 "nbformat": 4,
 "nbformat_minor": 2
}
