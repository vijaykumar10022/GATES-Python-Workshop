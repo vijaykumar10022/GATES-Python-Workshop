{
 "cells": [
  {
   "cell_type": "code",
   "execution_count": 2,
   "metadata": {},
   "outputs": [
    {
     "name": "stdout",
     "output_type": "stream",
     "text": [
      "hello\n",
      "apssdc\n",
      "python workshop\n"
     ]
    }
   ],
   "source": [
    "data=open('mydata.txt','r')\n",
    "print(data.read())\n",
    "data.close()"
   ]
  },
  {
   "cell_type": "code",
   "execution_count": 4,
   "metadata": {},
   "outputs": [
    {
     "name": "stdout",
     "output_type": "stream",
     "text": [
      "hello\n",
      "apssdc\n",
      "python workshop\n"
     ]
    }
   ],
   "source": [
    "# reading data from file\n",
    "with open('mydata.txt','r') as f:\n",
    "    print(f.read())"
   ]
  },
  {
   "cell_type": "code",
   "execution_count": 6,
   "metadata": {},
   "outputs": [
    {
     "name": "stdout",
     "output_type": "stream",
     "text": [
      "Enter Some Datahii welcome to apssdc 6 day workshop\n",
      "Data Stored sucessfully...!!\n"
     ]
    }
   ],
   "source": [
    "# writing data into file\n",
    "with open('write_data.txt','w') as f:\n",
    "    data=input(\"Enter Some Data\")\n",
    "    f.write(data)\n",
    "    print(\"Data Stored sucessfully...!!\")"
   ]
  },
  {
   "cell_type": "code",
   "execution_count": 7,
   "metadata": {},
   "outputs": [
    {
     "name": "stdout",
     "output_type": "stream",
     "text": [
      "hii welcome to apssdc 6 day workshop\n"
     ]
    }
   ],
   "source": [
    "#reading data from datafile\n",
    "with open('write_data.txt','r') as f:\n",
    "    data=f.read()\n",
    "    print(data)"
   ]
  },
  {
   "cell_type": "code",
   "execution_count": 11,
   "metadata": {},
   "outputs": [
    {
     "name": "stdout",
     "output_type": "stream",
     "text": [
      "['hii', 'welcome', 'to', 'apssdc', '6', 'day', 'workshop']\n",
      "Words count is : 7\n",
      "Charaters count is : 30\n"
     ]
    }
   ],
   "source": [
    "with open('write_data.txt','r') as f_data:\n",
    "    data=f_data.read()\n",
    "    data=data.split()\n",
    "    print(data)\n",
    "    print(\"Words count is :\",len(data))\n",
    "    print(\"Charaters count is :\",end=\" \")\n",
    "    c=0\n",
    "    for word in data:\n",
    "        c=c+len(word)\n",
    "    print(c)"
   ]
  },
  {
   "cell_type": "code",
   "execution_count": null,
   "metadata": {},
   "outputs": [],
   "source": []
  }
 ],
 "metadata": {
  "kernelspec": {
   "display_name": "Python 3",
   "language": "python",
   "name": "python3"
  },
  "language_info": {
   "codemirror_mode": {
    "name": "ipython",
    "version": 3
   },
   "file_extension": ".py",
   "mimetype": "text/x-python",
   "name": "python",
   "nbconvert_exporter": "python",
   "pygments_lexer": "ipython3",
   "version": "3.7.1"
  }
 },
 "nbformat": 4,
 "nbformat_minor": 2
}
