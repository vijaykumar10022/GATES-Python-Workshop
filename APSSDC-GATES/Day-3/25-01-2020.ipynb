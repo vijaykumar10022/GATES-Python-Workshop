{
 "cells": [
  {
   "cell_type": "markdown",
   "metadata": {},
   "source": [
    "#### Day Objectives\n",
    "    - loops\n",
    "    - flow control \n",
    "    - Funtions\n",
    "    - Srtings\n",
    "    - List\n",
    "    - Tuples\n",
    "    - Dictionaries"
   ]
  },
  {
   "cell_type": "code",
   "execution_count": 15,
   "metadata": {},
   "outputs": [
    {
     "name": "stdout",
     "output_type": "stream",
     "text": [
      "10\n",
      "1 2 3 4 5 6 7 8 9 10 \n",
      "10 9 8 7 6 5 4 3 2 1 "
     ]
    }
   ],
   "source": [
    "# For  loop\n",
    "# to display natural Numbers both forward and backward for Given input \n",
    "# input:10\n",
    "# ouput:1 2 3 4 5 6 7 8 9 10\n",
    "# ouput:10 9 8 7 6 5 4 3 2 1\n",
    "# syntax:\n",
    "#     for value in iterator:\n",
    "#         statements;\n",
    "n=int(input()) # 10\n",
    "for i in range(1,n+1):\n",
    "    print(i,end=\" \")\n",
    "print()\n",
    "for i in range(n,1-1,-1):\n",
    "    print(i,end=\" \")"
   ]
  },
  {
   "cell_type": "code",
   "execution_count": 19,
   "metadata": {},
   "outputs": [
    {
     "name": "stdout",
     "output_type": "stream",
     "text": [
      "1\n",
      "100\n",
      "1 2 3 4 5 6 7 8 9 10 11 12 13 14 15 16 17 18 19 20 21 22 23 24 25 26 27 28 29 30 31 32 33 34 35 36 37 38 39 40 41 42 43 44 45 46 47 48 49 50 51 52 53 54 55 56 57 58 59 60 61 62 63 64 65 66 67 68 69 70 71 72 73 74 75 76 77 78 79 80 81 82 83 84 85 86 87 88 89 90 91 92 93 94 95 96 97 98 99 100 "
     ]
    }
   ],
   "source": [
    "# input:10 20\n",
    "# output:10 11 12 ... 20\n",
    "start=int(input())\n",
    "end=int(input())\n",
    "for i in range(start,end+1):\n",
    "    print(i,end=\" \")"
   ]
  },
  {
   "cell_type": "code",
   "execution_count": 23,
   "metadata": {},
   "outputs": [
    {
     "name": "stdout",
     "output_type": "stream",
     "text": [
      "Even\n",
      "Odd\n"
     ]
    }
   ],
   "source": [
    "n=8\n",
    "# if(n%2==0):\n",
    "#     print(\"Even\")\n",
    "if(n%2!=1):\n",
    "    print(\"Even\")\n",
    "n=5\n",
    "# if(n%2==1):\n",
    "#     print(\"Odd\")\n",
    "if(n%2!=0):\n",
    "    print(\"Odd\")\n"
   ]
  },
  {
   "cell_type": "code",
   "execution_count": 34,
   "metadata": {},
   "outputs": [
    {
     "name": "stdout",
     "output_type": "stream",
     "text": [
      "5\n",
      "1\n",
      "20\n",
      "Odd Numbers: 1 3 5 7 9 11 13 15 17 19 \n",
      "Even Numbers: 2 4 6 8 10 12 14 16 18 20 \n",
      "5\n",
      "50\n",
      "Odd Numbers: 5 7 9 11 13 15 17 19 21 23 25 27 29 31 33 35 37 39 41 43 45 47 49 \n",
      "Even Numbers: 6 8 10 12 14 16 18 20 22 24 26 28 30 32 34 36 38 40 42 44 46 48 50 \n",
      "1\n",
      "15\n",
      "Odd Numbers: 1 3 5 7 9 11 13 15 \n",
      "Even Numbers: 2 4 6 8 10 12 14 \n",
      "20\n",
      "30\n",
      "Odd Numbers: 21 23 25 27 29 \n",
      "Even Numbers: 20 22 24 26 28 30 \n",
      "40\n",
      "60\n",
      "Odd Numbers: 41 43 45 47 49 51 53 55 57 59 \n",
      "Even Numbers: 40 42 44 46 48 50 52 54 56 58 60 \n"
     ]
    }
   ],
   "source": [
    "# input:3\n",
    "#         1 10\n",
    "#         10 20\n",
    "#         20 25\n",
    "# output:\n",
    "#     odd Numbers:1 3 5 7 9\n",
    "#     even Numbers:2 4 6 8 10\n",
    "#     odd Numbers:11 13 15 17 19\n",
    "#     even Numbers:10 12 14 16 18\n",
    "#     odd Numbers:21 23 25\n",
    "#     even Numbers:20 22 24\n",
    "test_cases=int(input())#3\n",
    "for t in range(test_cases):\n",
    "    s=int(input())\n",
    "    e=int(input())\n",
    "    print(\"Odd Numbers:\",end=\" \")\n",
    "    for i in range(s,e+1):\n",
    "        if(i%2==1):\n",
    "            print(i,end=\" \")\n",
    "    print(\"\\nEven Numbers:\",end=\" \")\n",
    "    for i in range(s,e+1):\n",
    "        if(i%2==0):\n",
    "            print(i,end=\" \")\n",
    "    print()"
   ]
  },
  {
   "cell_type": "code",
   "execution_count": 36,
   "metadata": {},
   "outputs": [
    {
     "name": "stdout",
     "output_type": "stream",
     "text": [
      "180\n",
      "3\n",
      "600\n",
      "120\n",
      "Upload Another Pic\n",
      "400\n",
      "400\n",
      "Crop it\n",
      "180\n",
      "180\n",
      "Accepted\n"
     ]
    }
   ],
   "source": [
    "# input:180\n",
    "#       600 120\n",
    "# output:Upload Another pic\n",
    "# input:180\n",
    "#       400 400\n",
    "# output:Crop it\n",
    "# input:180\n",
    "#       140 140 \n",
    "# output:Upload Another pic\n",
    "# input:180\n",
    "#     180 180\n",
    "# output:Accepted\n",
    "\n",
    "# input:3\n",
    "#     600 120\n",
    "#     400 400\n",
    "#     180 180\n",
    "# output:\n",
    "#     Upload Another pic\n",
    "#     Crop it\n",
    "#     Accepted\n",
    "\n",
    "length=int(input())\n",
    "test=int(input())\n",
    "for i in range(test):\n",
    "    width=int(input())\n",
    "    Height=int(input())\n",
    "    if(width<length or Height< length):\n",
    "        print(\"Upload Another Pic\")\n",
    "    else:\n",
    "        if(length==width==Height):\n",
    "            print(\"Accepted\")\n",
    "        else:\n",
    "            print(\"Crop it\")\n"
   ]
  },
  {
   "cell_type": "code",
   "execution_count": 38,
   "metadata": {},
   "outputs": [
    {
     "name": "stdout",
     "output_type": "stream",
     "text": [
      "180\n",
      "3\n",
      "640 120\n",
      "UPLOAD ANOTHER\n",
      "400 400\n",
      "CROP IT\n",
      "180 180\n",
      "ACCEPTED\n"
     ]
    }
   ],
   "source": [
    "l=int(input())\n",
    "t=int(input())\n",
    "for i in range(t):\n",
    "    w_h=input().split()\n",
    "    w=int(w_h[0])\n",
    "    h=int(w_h[1])\n",
    "    if(w<l or h<l):\n",
    "        print(\"UPLOAD ANOTHER\")\n",
    "    else:\n",
    "        if(l==h==w):\n",
    "            print(\"ACCEPTED\")\n",
    "        else:\n",
    "            print(\"CROP IT\")"
   ]
  },
  {
   "cell_type": "code",
   "execution_count": 52,
   "metadata": {},
   "outputs": [
    {
     "name": "stdout",
     "output_type": "stream",
     "text": [
      "3\n",
      "10\n",
      "55\n",
      "20\n",
      "210\n",
      "100\n",
      "5050\n"
     ]
    }
   ],
   "source": [
    "# input:10 -->1+2+3+4+5+6+7+8+9+10 -->55\n",
    "# output:55\n",
    "# input:20\n",
    "# output:?\n",
    "t=int(input())\n",
    "for i in range(t):\n",
    "    n=int(input())\n",
    "    sum1=0\n",
    "    for i in range(1,n+1):\n",
    "        sum1=sum1+i # sum1+=i\n",
    "    print(sum1)"
   ]
  },
  {
   "cell_type": "code",
   "execution_count": 53,
   "metadata": {},
   "outputs": [
    {
     "data": {
      "text/plain": [
       "25"
      ]
     },
     "execution_count": 53,
     "metadata": {},
     "output_type": "execute_result"
    }
   ],
   "source": [
    "1+3+5+7+9"
   ]
  },
  {
   "cell_type": "code",
   "execution_count": 50,
   "metadata": {},
   "outputs": [
    {
     "name": "stdout",
     "output_type": "stream",
     "text": [
      "['False', 'None', 'True', 'and', 'as', 'assert', 'async', 'await', 'break', 'class', 'continue', 'def', 'del', 'elif', 'else', 'except', 'finally', 'for', 'from', 'global', 'if', 'import', 'in', 'is', 'lambda', 'nonlocal', 'not', 'or', 'pass', 'raise', 'return', 'try', 'while', 'with', 'yield']\n"
     ]
    }
   ],
   "source": [
    "print((keyword.kwlist))"
   ]
  },
  {
   "cell_type": "code",
   "execution_count": 48,
   "metadata": {},
   "outputs": [
    {
     "name": "stdout",
     "output_type": "stream",
     "text": [
      "35\n"
     ]
    }
   ],
   "source": [
    "print(len(keyword.kwlist))"
   ]
  },
  {
   "cell_type": "code",
   "execution_count": 56,
   "metadata": {},
   "outputs": [
    {
     "name": "stdout",
     "output_type": "stream",
     "text": [
      "15\n",
      "22\t30\t37\t45\t52\t60\t67\t75\t82\t90\t97\t105\t112\t120\t127\t"
     ]
    }
   ],
   "source": [
    "# input:5\n",
    "#     hint : 5 *(2+1)//2   5*(3+1)//2 5*(4+1)//2 5*(5+1)//2 5*(6+1)//2\n",
    "# output:  7   10   12   15  17\n",
    "n=int(input())\n",
    "for i in range(1,n+1):\n",
    "    expre=n*((i+1)+1)//2 #5 *(2+1)//2\n",
    "                         #5 *(3+1)//2\n",
    "    print(expre,end=\"\\t\")\n",
    "# input:3\n",
    "#      5\n",
    "#      6\n",
    "#      15\n",
    "# output:  \n",
    "#     7   10   12   15  17 \n",
    "#     9\t12\t15\t18\t21\t24\n",
    "#     22\t30\t37\t45\t52\t60\t67\t75\t82\t90\t97\t105\t112\t120\t127"
   ]
  },
  {
   "cell_type": "code",
   "execution_count": 73,
   "metadata": {},
   "outputs": [
    {
     "name": "stdout",
     "output_type": "stream",
     "text": [
      "5\n",
      "1\n"
     ]
    }
   ],
   "source": [
    "# input:5\n",
    "#     hint:7+10+12+15+17\n",
    "# output:61%10 -->1\n",
    "\n",
    "n=int(input())\n",
    "sum1=0\n",
    "for i in range(1,n+1):\n",
    "    expre=n*((i+1)+1)//2\n",
    "    sum1=sum1+expre \n",
    "#     sum1=0+7-->7\n",
    "#                     sum1=7+10 -->17\n",
    "#                     sum1=17+12 -->29\n",
    "#                     sum1=29+15 -->44\n",
    "#                     sum1=44+17 -->61\n",
    "                    \n",
    "    #\n",
    "#     print(expre,end=\"\\t\")\n",
    "print(sum1%10)"
   ]
  },
  {
   "cell_type": "code",
   "execution_count": 60,
   "metadata": {},
   "outputs": [
    {
     "name": "stdout",
     "output_type": "stream",
     "text": [
      "10\n",
      "2 1024 13122 32768 31250 15552 4802 1024 162 20 "
     ]
    }
   ],
   "source": [
    "# input:10\n",
    "#     hint: (1^10)*2  (2^9)*2 (3^8)*2 (4^7)*2 (5^6)*2 (6^5)*2 ...\n",
    "# output:2 1024 13122 ....\n",
    "n=int(input())\n",
    "v1=1\n",
    "for i in range(n,0,-1):\n",
    "    expre=(v1**i)*2\n",
    "    v1=v1+1\n",
    "    print(expre,end=\" \")\n",
    "    \n"
   ]
  },
  {
   "cell_type": "code",
   "execution_count": 62,
   "metadata": {},
   "outputs": [
    {
     "name": "stdout",
     "output_type": "stream",
     "text": [
      "8\n"
     ]
    }
   ],
   "source": [
    "a=32768\n",
    "print(a%10)"
   ]
  },
  {
   "cell_type": "code",
   "execution_count": 63,
   "metadata": {},
   "outputs": [
    {
     "name": "stdout",
     "output_type": "stream",
     "text": [
      "10\n",
      "2 4 2 8 0 2 2 4 2 0 "
     ]
    }
   ],
   "source": [
    "# input:10\n",
    "#     hint:(1^10)*2  (2^9)*2 (3^8)*2 (4^7)*2 (5^6)*2 (6^5)*2\n",
    "# output:2  4  2  8  0  2 2 4 2 0\n",
    "n=int(input())\n",
    "v1=1\n",
    "for i in range(n,0,-1):\n",
    "    expre=(v1**i)*2\n",
    "    v1=v1+1\n",
    "    print(expre%10,end=\" \")"
   ]
  },
  {
   "cell_type": "code",
   "execution_count": 64,
   "metadata": {},
   "outputs": [
    {
     "name": "stdout",
     "output_type": "stream",
     "text": [
      "10\n",
      "21 38 19 60 5 16 15 20 13 10 "
     ]
    }
   ],
   "source": [
    "# input:10\n",
    "#     hint1:(1^10)*2  (2^9)*2 (3^8)*2 (4^7)*2 (5^6)*2 (6^5)*2\n",
    "#     hint2:2(10)+1  4(9)+2  2(8)+3  8(7)+4  0(6)+5  2(5)+6 2(4)+7 4 2 0\n",
    "# output:21 38   19   60   5  16   15 ....\n",
    "n=int(input())\n",
    "v1=1\n",
    "for i in range(n,0,-1):\n",
    "    expre=(v1**i)*2\n",
    "    print(((expre%10)*i)+v1,end=\" \")\n",
    "    v1=v1+1"
   ]
  },
  {
   "cell_type": "code",
   "execution_count": null,
   "metadata": {},
   "outputs": [],
   "source": [
    "# input:5\n",
    "#      x=1 ,y=2\n",
    "#     expre1=((x^2)+(x+30))//2\n",
    "#     expre2=((x^y)+(x*y)+(2*x*y))//2\n",
    "#     result_expres=(expre1+expre2)%10\n",
    "# output: ?"
   ]
  },
  {
   "cell_type": "code",
   "execution_count": 74,
   "metadata": {},
   "outputs": [
    {
     "name": "stdout",
     "output_type": "stream",
     "text": [
      "10\n",
      "20\n",
      "10 11 12 13 14 15 16 17 18 19 20 "
     ]
    }
   ],
   "source": [
    "#while loop\n",
    "# syntax:\n",
    "#     while(conds):\n",
    "#         statements\n",
    "#         incre/decre\n",
    "# to display natural numbers for given range\n",
    "s=int(input())#10\n",
    "e=int(input())#20\n",
    "while(s<=e):#(10<=20)(T) (11<=20)(T)(12<=20)(T) ...(20<=20)(T) 21<=20 (F)\n",
    "    print(s,end=\" \")#10 11 12 .... 20\n",
    "    s=s+1#11,12 13 ....21\n"
   ]
  },
  {
   "cell_type": "code",
   "execution_count": 81,
   "metadata": {},
   "outputs": [
    {
     "name": "stdout",
     "output_type": "stream",
     "text": [
      "69874561235\n",
      "11\n"
     ]
    }
   ],
   "source": [
    "n=int(input())\n",
    "count=0\n",
    "while(n!=0):#(9870!=0)(T),(987!=0)(T),98!=0(T),9!=0(T),0!=0(F)\n",
    "    count+=1# count=count+1 -->1,2,3,4\n",
    "    n=n//10 #9870//10 -->987,987//10 -->98,98//10 -->9,9//10 -->0\n",
    "print(count)\n",
    "    "
   ]
  },
  {
   "cell_type": "code",
   "execution_count": 2,
   "metadata": {},
   "outputs": [
    {
     "name": "stdout",
     "output_type": "stream",
     "text": [
      "569\n",
      "965\n"
     ]
    }
   ],
   "source": [
    "# input:98745\n",
    "# output:54789\n",
    "n=int(input())\n",
    "rev=0\n",
    "while(n>0):\n",
    "    rev=rev*10+n%10\n",
    "    n//=10\n",
    "print(rev)\n",
    "    "
   ]
  },
  {
   "cell_type": "code",
   "execution_count": 11,
   "metadata": {},
   "outputs": [
    {
     "name": "stdout",
     "output_type": "stream",
     "text": [
      "69874561235\n",
      "6  *  11 --> 66\n",
      "9  *  10 --> 90\n",
      "8  *  9 --> 72\n",
      "7  *  8 --> 56\n",
      "4  *  7 --> 28\n",
      "5  *  6 --> 30\n",
      "6  *  5 --> 30\n",
      "1  *  4 --> 4\n",
      "2  *  3 --> 6\n",
      "3  *  2 --> 6\n",
      "5  *  1 --> 5\n"
     ]
    }
   ],
   "source": [
    "# input:69874561235\n",
    "#     hint -->6*11 9*10 8*9 7*8 4*7 5*6 6*5 1*4 2*3 3*2 5*1\n",
    "# output:66 90 72 56 28 ..... \n",
    "n=int(input())\n",
    "rev=0\n",
    "# reversing of given Number\n",
    "while(n>0):\n",
    "    rev=rev*10+n%10\n",
    "    n=n//10\n",
    "# print(n)\n",
    "# print(rev)\n",
    "temp=rev\n",
    "# finding the count\n",
    "c=0\n",
    "while(rev!=0):\n",
    "    c=c+1\n",
    "    rev=rev//10\n",
    "# print(c)\n",
    "# print(temp)\n",
    "#expected Series output\n",
    "while(temp!=0):\n",
    "    print(temp%10,\" * \",c,\"-->\",(temp%10)*c)\n",
    "    c=c-1\n",
    "    temp=temp//10\n",
    "\n"
   ]
  },
  {
   "cell_type": "code",
   "execution_count": 83,
   "metadata": {},
   "outputs": [
    {
     "data": {
      "text/plain": [
       "72"
      ]
     },
     "execution_count": 83,
     "metadata": {},
     "output_type": "execute_result"
    }
   ],
   "source": [
    "8*9"
   ]
  },
  {
   "cell_type": "code",
   "execution_count": 18,
   "metadata": {},
   "outputs": [
    {
     "name": "stdout",
     "output_type": "stream",
     "text": [
      "22\n",
      "22 --> 22 // 2 -->11\n",
      "11 --> 11 * 3 + 1 -->34\n",
      "34 --> 34 // 2 -->17\n",
      "17 --> 17 * 3 + 1 -->52\n",
      "52 --> 52 // 2 -->26\n",
      "26 --> 26 // 2 -->13\n",
      "13 --> 13 * 3 + 1 -->40\n",
      "40 --> 40 // 2 -->20\n",
      "20 --> 20 // 2 -->10\n",
      "10 --> 10 // 2 -->5\n",
      "5 --> 5 * 3 + 1 -->16\n",
      "16 --> 16 // 2 -->8\n",
      "8 --> 8 // 2 -->4\n",
      "4 --> 4 // 2 -->2\n",
      "2 --> 2 // 2 -->1\n",
      "22 ---> 16\n"
     ]
    }
   ],
   "source": [
    "# input:22\n",
    "#     explanation:\n",
    "#         even:\n",
    "#             22//2\n",
    "#         odd\n",
    "#         n*3+1\n",
    "# 22-->22//2-->11\n",
    "# 11-->11*3+1-->34\n",
    "# 34-->34//2-->17\n",
    "# 17-->17*3+1-->52\n",
    "# 52-->52//2-->26\n",
    "# 26-->26//2-->13\n",
    "# 13-->13*3+1-->40\n",
    "# 40-->40//2-->20\n",
    "# 20-->20//2-->10\n",
    "# 10-->10//2-->5\n",
    "# 5-->5*3+1-->16\n",
    "# 16-->16//2-->8\n",
    "# 8-->8//2-->4\n",
    "# 4-->4//2-->2\n",
    "# 2-->2//2-->1\n",
    "\n",
    "# output:16\n",
    "\n",
    "n=int(input())\n",
    "temp=n\n",
    "cycle_count=0\n",
    "while(n!=1):\n",
    "    if(n%2==0):\n",
    "        print(n,\"-->\",n,\"//\",2,\"-->\",end=\"\")\n",
    "        n=n//2\n",
    "        print(n)\n",
    "    else:\n",
    "        print(n,\"-->\",n,\"*\",3,\"+\",1,\"-->\",end=\"\")\n",
    "        n=n*3+1\n",
    "        print(n)\n",
    "    cycle_count+=1\n",
    "print(temp,\"--->\",cycle_count+1)"
   ]
  },
  {
   "cell_type": "code",
   "execution_count": 23,
   "metadata": {},
   "outputs": [
    {
     "name": "stdout",
     "output_type": "stream",
     "text": [
      "501\n",
      "503\n",
      "17F21A0501\n",
      "17F21A0502\n",
      "17F21A0503\n"
     ]
    }
   ],
   "source": [
    "# flow control statements\n",
    "#     - break\n",
    "#     - continue\n",
    "# input:1 50\n",
    "# output:17F21A0501\n",
    "#        17F21A0502\n",
    "#        17F21A0503\n",
    "#             --\n",
    "#             --\n",
    "            \n",
    "#        17F21A0534\n",
    "#        17F21A0536\n",
    "#        17F21A0548\n",
    "#        17F21A0550\n",
    "\n",
    "s=int(input())\n",
    "e=int(input())\n",
    "for i in range(s,e+1):\n",
    "    if(i==535 or i==549 or i==520):\n",
    "        continue\n",
    "    else:\n",
    "        print(\"17F21A0\"+str(i))\n",
    "    \n",
    "        \n",
    " "
   ]
  },
  {
   "cell_type": "code",
   "execution_count": 24,
   "metadata": {},
   "outputs": [
    {
     "name": "stdout",
     "output_type": "stream",
     "text": [
      "501\n",
      "550\n",
      "17F21A0501\n",
      "17F21A0502\n",
      "17F21A0503\n",
      "17F21A0504\n",
      "17F21A0505\n",
      "17F21A0506\n",
      "17F21A0507\n",
      "17F21A0508\n",
      "17F21A0509\n",
      "17F21A0510\n",
      "17F21A0511\n",
      "17F21A0512\n",
      "17F21A0513\n",
      "17F21A0514\n",
      "17F21A0515\n",
      "17F21A0516\n",
      "17F21A0517\n",
      "17F21A0518\n",
      "17F21A0519\n"
     ]
    }
   ],
   "source": [
    "# Break\n",
    "s=int(input())\n",
    "e=int(input())\n",
    "for i in range(s,e+1):\n",
    "    if(i==520):\n",
    "        break\n",
    "    else:\n",
    "        print(\"17F21A0\"+str(i))"
   ]
  },
  {
   "cell_type": "code",
   "execution_count": 37,
   "metadata": {},
   "outputs": [
    {
     "name": "stdout",
     "output_type": "stream",
     "text": [
      "A P S S D c\n",
      "c D S S P A\n",
      "SSD\n",
      "SSD\n",
      "PSSDc\n",
      "PSSDc\n",
      "APSSD\n",
      "APSSD\n",
      "cDSSPA\n"
     ]
    }
   ],
   "source": [
    "# strings in python\n",
    "s=\"APSSDc\"\n",
    "#acessing individual characters in String  \n",
    "print(s[0],s[1],s[2],s[3],s[4],s[5]) # -->positive index values\n",
    "print(s[-1],s[-2],s[-3],s[-4],s[-5],s[-6]) # -->negative index values\n",
    "#string Slicing\n",
    "print(s[2:5])\n",
    "print(s[-4:-1])\n",
    "print(s[1:])\n",
    "print(s[-5:])\n",
    "print(s[:5])\n",
    "print(s[:-1])\n",
    "print(s[::-1]) #Revese String"
   ]
  },
  {
   "cell_type": "code",
   "execution_count": 39,
   "metadata": {},
   "outputs": [
    {
     "name": "stdout",
     "output_type": "stream",
     "text": [
      "98765 <class 'int'>\n"
     ]
    }
   ],
   "source": [
    "n=56789\n",
    "n1=int(str(n)[::-1])\n",
    "print(n1,type(n1))"
   ]
  },
  {
   "cell_type": "code",
   "execution_count": 40,
   "metadata": {},
   "outputs": [
    {
     "name": "stdout",
     "output_type": "stream",
     "text": [
      "10\n"
     ]
    }
   ],
   "source": [
    "n=5457456251\n",
    "print(len(str(n)))"
   ]
  },
  {
   "cell_type": "code",
   "execution_count": 47,
   "metadata": {},
   "outputs": [
    {
     "name": "stdout",
     "output_type": "stream",
     "text": [
      "P y t h o n   P r o g r a m m i n g \n",
      "PWyetlhcoonm eP rtoog rPaymtmhionng \n"
     ]
    }
   ],
   "source": [
    "str1=\"Python Programming\"\n",
    "str2=\"Welcome to Python \"\n",
    "str3=\"\"\n",
    "#Pwye\n",
    "for i in range(len(str1)):\n",
    "    print(str1[i],end=\" \")\n",
    "print()\n",
    "t1=0\n",
    "t2=0\n",
    "for i in range(len(str1)*2):\n",
    "    if(i%2==0):\n",
    "        str3=str3+str1[t1]\n",
    "        t1+=1\n",
    "    else:\n",
    "        str3=str3+str2[t2]\n",
    "        t2+=1\n",
    "print(str3)"
   ]
  },
  {
   "cell_type": "code",
   "execution_count": 50,
   "metadata": {},
   "outputs": [
    {
     "name": "stdout",
     "output_type": "stream",
     "text": [
      "True\n"
     ]
    }
   ],
   "source": [
    "#identity operators\n",
    "# is ,not is\n",
    "s1=\"python\"\n",
    "s2=\"programming\"\n",
    "if(s1  is not s2):\n",
    "    print(\"True\")\n",
    "else:\n",
    "    print(\"False\")\n"
   ]
  },
  {
   "cell_type": "code",
   "execution_count": 51,
   "metadata": {},
   "outputs": [
    {
     "data": {
      "text/plain": [
       "'python'"
      ]
     },
     "execution_count": 51,
     "metadata": {},
     "output_type": "execute_result"
    }
   ],
   "source": [
    "s1"
   ]
  },
  {
   "cell_type": "code",
   "execution_count": 52,
   "metadata": {},
   "outputs": [
    {
     "name": "stdout",
     "output_type": "stream",
     "text": [
      "Yes\n"
     ]
    }
   ],
   "source": [
    "#Member Ship Operators\n",
    "#in ,not in\n",
    "if('p' in s1 ):\n",
    "    print(\"Yes\")\n",
    "else:\n",
    "    print(\"No\")"
   ]
  },
  {
   "cell_type": "code",
   "execution_count": 53,
   "metadata": {},
   "outputs": [
    {
     "name": "stdout",
     "output_type": "stream",
     "text": [
      "No\n"
     ]
    }
   ],
   "source": [
    "if('y' not in s1):\n",
    "    print(\"Yes\")\n",
    "else:\n",
    "    print(\"No\")"
   ]
  },
  {
   "cell_type": "code",
   "execution_count": 55,
   "metadata": {},
   "outputs": [
    {
     "name": "stdout",
     "output_type": "stream",
     "text": [
      "Palindrome\n"
     ]
    }
   ],
   "source": [
    "s1=\"malayalam\"\n",
    "rev=s1[::-1]\n",
    "if(s1 == rev):\n",
    "    print(\"Palindrome\")\n",
    "else:\n",
    "    print(\"Not a palindrome\")\n"
   ]
  },
  {
   "cell_type": "code",
   "execution_count": 57,
   "metadata": {},
   "outputs": [
    {
     "name": "stdout",
     "output_type": "stream",
     "text": [
      "Yes\n"
     ]
    }
   ],
   "source": [
    "n1=1000001\n",
    "rev=str(n1)[::-1]\n",
    "if(str(n1)==rev):\n",
    "    print(\"Yes\")\n",
    "else:\n",
    "    print(\"no\")"
   ]
  },
  {
   "cell_type": "code",
   "execution_count": 58,
   "metadata": {},
   "outputs": [
    {
     "name": "stdout",
     "output_type": "stream",
     "text": [
      "['__add__', '__class__', '__contains__', '__delattr__', '__dir__', '__doc__', '__eq__', '__format__', '__ge__', '__getattribute__', '__getitem__', '__getnewargs__', '__gt__', '__hash__', '__init__', '__init_subclass__', '__iter__', '__le__', '__len__', '__lt__', '__mod__', '__mul__', '__ne__', '__new__', '__reduce__', '__reduce_ex__', '__repr__', '__rmod__', '__rmul__', '__setattr__', '__sizeof__', '__str__', '__subclasshook__', 'capitalize', 'casefold', 'center', 'count', 'encode', 'endswith', 'expandtabs', 'find', 'format', 'format_map', 'index', 'isalnum', 'isalpha', 'isascii', 'isdecimal', 'isdigit', 'isidentifier', 'islower', 'isnumeric', 'isprintable', 'isspace', 'istitle', 'isupper', 'join', 'ljust', 'lower', 'lstrip', 'maketrans', 'partition', 'replace', 'rfind', 'rindex', 'rjust', 'rpartition', 'rsplit', 'rstrip', 'split', 'splitlines', 'startswith', 'strip', 'swapcase', 'title', 'translate', 'upper', 'zfill']\n"
     ]
    }
   ],
   "source": [
    "print(dir(str))"
   ]
  },
  {
   "cell_type": "code",
   "execution_count": 59,
   "metadata": {},
   "outputs": [
    {
     "data": {
      "text/plain": [
       "'malayalam'"
      ]
     },
     "execution_count": 59,
     "metadata": {},
     "output_type": "execute_result"
    }
   ],
   "source": [
    "s1"
   ]
  },
  {
   "cell_type": "code",
   "execution_count": 68,
   "metadata": {},
   "outputs": [
    {
     "data": {
      "text/plain": [
       "'aaaa'"
      ]
     },
     "execution_count": 68,
     "metadata": {},
     "output_type": "execute_result"
    }
   ],
   "source": [
    "s1[1::2]"
   ]
  },
  {
   "cell_type": "code",
   "execution_count": null,
   "metadata": {},
   "outputs": [],
   "source": []
  }
 ],
 "metadata": {
  "kernelspec": {
   "display_name": "Python 3",
   "language": "python",
   "name": "python3"
  },
  "language_info": {
   "codemirror_mode": {
    "name": "ipython",
    "version": 3
   },
   "file_extension": ".py",
   "mimetype": "text/x-python",
   "name": "python",
   "nbconvert_exporter": "python",
   "pygments_lexer": "ipython3",
   "version": "3.7.1"
  }
 },
 "nbformat": 4,
 "nbformat_minor": 2
}
