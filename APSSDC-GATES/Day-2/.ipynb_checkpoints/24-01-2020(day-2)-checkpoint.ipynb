{
 "cells": [
  {
   "cell_type": "markdown",
   "metadata": {},
   "source": [
    "#### Today Objectives\n",
    "    - Pending Operators\n",
    "    - Control Statements\n",
    "        - conditional statements\n",
    "        - loops\n",
    "        - flow control \n",
    "    - Funtions\n",
    "    - Srtings"
   ]
  },
  {
   "cell_type": "markdown",
   "metadata": {},
   "source": [
    "#### Logical Operators \n",
    "- cheking conditions contions \n",
    "- it returns True/False \n",
    " - AND ,OR,NOT\n",
    "    Logical AND:\n",
    "    condtition1 conditions2 result\n",
    "             F          F      F\n",
    "             F          T      F\n",
    "             T          F      F\n",
    "             T          T      T"
   ]
  },
  {
   "cell_type": "code",
   "execution_count": 14,
   "metadata": {},
   "outputs": [
    {
     "name": "stdout",
     "output_type": "stream",
     "text": [
      "10\n",
      "20\n",
      "False\n"
     ]
    }
   ],
   "source": [
    "# Example for Logical AND \n",
    "a=int(input())# 10\n",
    "b=int(input()) #20\n",
    "if(not(a<b and a<30 and b>5 and a!=b and a==a and 100 >50 )):\n",
    "    print(\"True\")\n",
    "else:\n",
    "    print(\"False\")\n"
   ]
  },
  {
   "cell_type": "markdown",
   "metadata": {},
   "source": [
    "#### Logical OR\n",
    "condition1 condition2 result\n",
    "    T         F         T\n",
    "    T         T         T\n",
    "    F         F         F\n",
    "    F         T         T"
   ]
  },
  {
   "cell_type": "code",
   "execution_count": 12,
   "metadata": {},
   "outputs": [
    {
     "name": "stdout",
     "output_type": "stream",
     "text": [
      "False\n"
     ]
    }
   ],
   "source": [
    "# example for Logical OR operaton\n",
    "a=10\n",
    "b=20\n",
    "if(not(a==b or a>b or a<2 or b==b)):\n",
    "    print(\"True\")\n",
    "else:\n",
    "    print(\"False\")"
   ]
  },
  {
   "cell_type": "markdown",
   "metadata": {},
   "source": [
    "##### logical Not \n",
    "contition1 result\n",
    "    T       F\n",
    "    F       T\n",
    "    "
   ]
  },
  {
   "cell_type": "code",
   "execution_count": 15,
   "metadata": {},
   "outputs": [
    {
     "name": "stdout",
     "output_type": "stream",
     "text": [
      "False\n"
     ]
    }
   ],
   "source": [
    "a=10\n",
    "b=20\n",
    "if(not(b>a)):\n",
    "    print(\"True\")\n",
    "else:\n",
    "    print(\"False\")\n",
    "    "
   ]
  },
  {
   "cell_type": "code",
   "execution_count": 17,
   "metadata": {},
   "outputs": [
    {
     "name": "stdout",
     "output_type": "stream",
     "text": [
      "True\n"
     ]
    }
   ],
   "source": [
    "a=20\n",
    "b=30\n",
    "if(not(a<1) and 10<20 and not(b!=b)):\n",
    "    print(\"True\")\n",
    "else:\n",
    "    print(\"False\")"
   ]
  },
  {
   "cell_type": "code",
   "execution_count": 18,
   "metadata": {},
   "outputs": [
    {
     "name": "stdout",
     "output_type": "stream",
     "text": [
      "True\n"
     ]
    }
   ],
   "source": [
    "a=20\n",
    "b=80\n",
    "c=50\n",
    "if((a<b and a>5) or (50==c and  not(a!=b))):\n",
    "#     t   and  t   or  t     and  f\n",
    "#          t      or   f\n",
    "#                t\n",
    "    print(\"True\")\n",
    "else:\n",
    "    print(\"False\")"
   ]
  },
  {
   "cell_type": "code",
   "execution_count": null,
   "metadata": {},
   "outputs": [],
   "source": [
    "# bit wise operators\n",
    "- input values \n",
    "- output values\n",
    "    - Operators\n",
    "        - bitwise and(&) \n",
    "        - bitwise or(|) ,\n",
    "        - bitwise xor(^),\n",
    "        - bitwise not(~)\n",
    "        - bitwise Rightshift(>>), \n",
    "        - bitwise Leftshit(<<)\n",
    "    - bitwise and(&)\n",
    "    a   b   and(&)   or(|) xor(^) not(~)(xor)\n",
    "    1   0    0        1     1         0\n",
    "    1   1    1        1     0         1\n",
    "    0   0    0        0     0         1\n",
    "    0   1    0        1     1         0\n",
    "    "
   ]
  },
  {
   "cell_type": "markdown",
   "metadata": {},
   "source": [
    "2|10\n",
    "   5-->0\n",
    "2|5\n",
    "  2-->1\n",
    "2|2\n",
    "  1--->0\n",
    "    \n",
    "1010-->10\n",
    "\n",
    "\n",
    "50--->110010\n",
    "2|50\n",
    "  25-->0\n",
    "2|25\n",
    "  12-->1\n",
    "2|12\n",
    "  6-->0\n",
    "2|6\n",
    "  3-->0\n",
    "2|3\n",
    "  1-->1\n",
    "    32   16  8 4  2 1   \n",
    "    1    1   0  0  1 0 \n",
    "    2^5*1+2^4*1+2^3*0+2^2*0 +2^1*1+2^0*0\n",
    "    32+16+0+0+2+0-->50\n",
    "   \n",
    "   \n",
    "  125--> 1111101\n",
    "  \n",
    "  64 32 16 8 4 2 1\n",
    "  1  1  1  1 1 0 1 -->125  \n",
    "\n",
    "\n",
    "    \n",
    "    \n",
    "    "
   ]
  },
  {
   "cell_type": "code",
   "execution_count": 25,
   "metadata": {},
   "outputs": [
    {
     "name": "stdout",
     "output_type": "stream",
     "text": [
      "16\n",
      "54\n",
      "38\n",
      "-51\n"
     ]
    }
   ],
   "source": [
    "#example for bitwise and operator(&)\n",
    "a=50\n",
    "b=20\n",
    "c=a&b\n",
    "print(c)\n",
    "# 1    1   0    0   1  0\n",
    "# 0    1    0   1   0   0\n",
    "# ------------------------\n",
    "# 0    1   0   0  0   0---->16\n",
    "d=a|b\n",
    "print(d)\n",
    "# 1   1  0  0 1 0\n",
    "# 0   1  0  1 0 0\n",
    "# -----------------\n",
    "#  1    1  0  1 1 0--->54\n",
    "# 32    16 0 4  2 0-->54\n",
    "e=a^b\n",
    "print(e)\n",
    "# 1  1  0  0 1 0\n",
    "# 0  1  0  1 0 0\n",
    "# -----------------\n",
    "#   1   0 0   1 1 0\n",
    "#   32 0 0 4 2 0 -->38\n",
    "f=~a\n",
    "print(f)\n",
    "# -(n+1)\n",
    "# ex:10\n",
    "#     -11\n",
    "\n",
    "\n",
    "\n",
    "\n",
    "\n",
    "\n",
    "\n"
   ]
  },
  {
   "cell_type": "code",
   "execution_count": 29,
   "metadata": {},
   "outputs": [
    {
     "name": "stdout",
     "output_type": "stream",
     "text": [
      "2\n"
     ]
    }
   ],
   "source": [
    "# example for Right shift(>>)\n",
    "a=20\n",
    "c=a>>3\n",
    "print(c)\n",
    "# 10-->1010>>2\n",
    "#      0010-->2\n",
    "#     1010>>3\n",
    "#     0001-->1\n",
    "#     1010>1\n",
    "#     0101-->5\n",
    "#10100>>3\n",
    "# 00010-->2"
   ]
  },
  {
   "cell_type": "code",
   "execution_count": 32,
   "metadata": {},
   "outputs": [
    {
     "name": "stdout",
     "output_type": "stream",
     "text": [
      "40\n",
      "280\n"
     ]
    }
   ],
   "source": [
    "#Example for Left Shift(<<)\n",
    "a=10\n",
    "c=a<<2\n",
    "print(c)\n",
    "# 10-->1010<<2\n",
    "#     101000-->40\n",
    "#35\n",
    "# -->100011<<3\n",
    "# -->100011000-->280\n",
    "a=35\n",
    "print(a<<3)\n"
   ]
  },
  {
   "cell_type": "code",
   "execution_count": 37,
   "metadata": {},
   "outputs": [
    {
     "name": "stdout",
     "output_type": "stream",
     "text": [
      "70\n",
      "50\n",
      "1000\n",
      "50.0\n",
      "10.0\n"
     ]
    }
   ],
   "source": [
    "##### Assignment operators\n",
    "#  - +=,-=,*=,/=,%=\n",
    "a=50\n",
    "b=20\n",
    "a+=b # or a=a+b\n",
    "print(a)#70\n",
    "a-=b # or a=a-b 70-20\n",
    "print(a)#50\n",
    "a*=b # or a=a*b 50*20-->1000\n",
    "print(a)#1000 \n",
    "a/=b # or a=a/b 1000/20 -->50\n",
    "print(a)#50\n",
    "a%=b # or a=a%b 50%20\n",
    "print(a) #10\n",
    "\n",
    " "
   ]
  },
  {
   "cell_type": "code",
   "execution_count": 33,
   "metadata": {},
   "outputs": [
    {
     "data": {
      "text/plain": [
       "10"
      ]
     },
     "execution_count": 33,
     "metadata": {},
     "output_type": "execute_result"
    }
   ],
   "source": [
    "50%20"
   ]
  },
  {
   "cell_type": "code",
   "execution_count": 36,
   "metadata": {},
   "outputs": [
    {
     "data": {
      "text/plain": [
       "20"
      ]
     },
     "execution_count": 36,
     "metadata": {},
     "output_type": "execute_result"
    }
   ],
   "source": [
    "20%150"
   ]
  },
  {
   "cell_type": "code",
   "execution_count": 35,
   "metadata": {},
   "outputs": [
    {
     "data": {
      "text/plain": [
       "1"
      ]
     },
     "execution_count": 35,
     "metadata": {},
     "output_type": "execute_result"
    }
   ],
   "source": [
    "7//5"
   ]
  },
  {
   "cell_type": "markdown",
   "metadata": {},
   "source": [
    "#### Conditional Statements\n",
    "    - if\n",
    "       Syntax:\n",
    "           if(conditions):\n",
    "               statements\n",
    "    - if ..else\n",
    "        if(conditions):\n",
    "            statements\n",
    "        else:\n",
    "            statements\n",
    "    - if .. elif ... else\n",
    "           if(conditions1):\n",
    "               statements\n",
    "            elif(conditions2):\n",
    "                statements\n",
    "            else:\n",
    "                statements"
   ]
  },
  {
   "cell_type": "code",
   "execution_count": 42,
   "metadata": {},
   "outputs": [
    {
     "name": "stdout",
     "output_type": "stream",
     "text": [
      "20\n",
      "yes it is integer data\n",
      "20\n",
      "Yes it is string data\n",
      "30\n",
      "Yes float Data\n"
     ]
    }
   ],
   "source": [
    "#examples --if\n",
    "#to check given input is int or char or float\n",
    "a=int(input())\n",
    "if(type(a)==int and type(a)!=str and type(a)!=float):\n",
    "    print(\"yes it is integer data\")\n",
    "b=input()\n",
    "if(type(b)==str):\n",
    "    print(\"Yes it is string data\")\n",
    "c=float(input())\n",
    "if(type(c)==float):\n",
    "    print(\"Yes float Data\")\n",
    "    \n",
    "\n"
   ]
  },
  {
   "cell_type": "code",
   "execution_count": 50,
   "metadata": {},
   "outputs": [
    {
     "name": "stdout",
     "output_type": "stream",
     "text": [
      "60 is bigger than 50\n",
      "50 is lesser than  60\n",
      "60 is bigger than 50\n",
      "50 is lesser than  60\n"
     ]
    }
   ],
   "source": [
    "#if ... else\n",
    "# finding the biggest of two numbers\n",
    "a=60\n",
    "b=50\n",
    "if(a<b):\n",
    "    print(b,\"is bigger than\",a)\n",
    "    print(a,\"is lesser than \",b)\n",
    "else:\n",
    "    print(a,\"is bigger than\",b)\n",
    "    print(b,\"is lesser than \",a)\n",
    "# or\n",
    "if(a>b):\n",
    "    print(a,\"is bigger than\",b)\n",
    "    print(b,\"is lesser than \",a)\n",
    "else:\n",
    "    print(b,\"is bigger than\",a)\n",
    "    print(a,\"is lesser than \",b)"
   ]
  },
  {
   "cell_type": "code",
   "execution_count": 53,
   "metadata": {},
   "outputs": [
    {
     "name": "stdout",
     "output_type": "stream",
     "text": [
      "10\n",
      "88\n",
      "8\n",
      "44\n",
      "88\n"
     ]
    }
   ],
   "source": [
    "#if..elif..else\n",
    "#biggest of three numbers\n",
    "# input:10 88 8 44 \n",
    "# output:44\n",
    "a=int(input())\n",
    "b=int(input())\n",
    "c=int(input())\n",
    "d=int(input())\n",
    "if(a>b and a>c and a>d):\n",
    "        print(a)\n",
    "elif(b>c and b>d):\n",
    "    print(b)\n",
    "elif(c>d):\n",
    "    print(c)\n",
    "else:\n",
    "    print(d)\n",
    "    \n"
   ]
  },
  {
   "cell_type": "code",
   "execution_count": null,
   "metadata": {},
   "outputs": [],
   "source": [
    "# input:180\n",
    "#       600 120\n",
    "# output:Upload Another pic\n",
    "# input:180\n",
    "#       400 400\n",
    "# output:Crop it\n",
    "# input:180\n",
    "#       140 140 \n",
    "# output:Upload Another pic\n",
    "# input:180\n",
    "#     180 180\n",
    "# output:Accepted\n",
    "length=int(input())\n",
    "width=int(input())\n",
    "Height=int(input())\n",
    "if(width<length or Height< length):\n",
    "    print(\"Upload Another Pic\")\n",
    "else:\n",
    "    if(length==width==Height):\n",
    "        print(\"Accepted\")\n",
    "    else:\n",
    "        print(\"Crop it\")\n"
   ]
  },
  {
   "cell_type": "raw",
   "metadata": {},
   "source": [
    "-->gmail project\n",
    "Registered usernames\n",
    "    user1=123456\n",
    "    psw1=apssdc123\n",
    "    user2=987654321\n",
    "    psw2=gates1234\n",
    "    \n",
    "#valid username \n",
    "    -->password\n",
    "        -->valid psw\n",
    "            ->Welocme to 123456\n",
    "        -->invalid psw\n",
    "            -->enter valid password\n",
    "#invalid username\n",
    "    -->enter valid username\n"
   ]
  },
  {
   "cell_type": "code",
   "execution_count": 60,
   "metadata": {},
   "outputs": [
    {
     "name": "stdout",
     "output_type": "stream",
     "text": [
      "enter Username:apssdc@gmail.com\n",
      "Enter password:apssdc123\n",
      "welcome to  apssdc@gmail.com\n"
     ]
    }
   ],
   "source": [
    "user1=\"vijay10022@gmail.com\"\n",
    "user2=\"vijaykumar.b@apssdc.in\"\n",
    "user3=\"apssdc@gmail.com\"\n",
    "psw1=\"apssdc123\"\n",
    "username=input(\"enter Username:\")\n",
    "if(username==user1 or username==user2 or username==user3):\n",
    "    password=input(\"Enter password:\")\n",
    "    if(password==psw1):\n",
    "        print(\"welcome to \",username)\n",
    "    else:\n",
    "        print(\"password is in valid enter valid password..!\")\n",
    "        password=input(\"Enter valid password:\")\n",
    "        if(password==psw1):\n",
    "            print(\"welcome to \",username)\n",
    "else:\n",
    "    username=input(\"enter valid Username:\")\n",
    "    if(username==user1 or username==user2 or username==user3):\n",
    "        password=input(\"Enter password:\")\n",
    "        if(password==psw1):\n",
    "            print(\"welcome to \",username)\n",
    "        else:\n",
    "            print(\"password is in valid enter valid password..!\")\n",
    "            password=input(\"Enter valid password:\")\n",
    "            if(password==psw1):\n",
    "                print(\"welcome to \",username)"
   ]
  },
  {
   "cell_type": "code",
   "execution_count": null,
   "metadata": {},
   "outputs": [],
   "source": [
    "#Loopes or iterators\n",
    "    - for\n",
    "        c-->\n",
    "                  (1)          (2) (5)(8)(f)       (4)(7)\n",
    "            for(initialization;condition;inc/decre){\n",
    "                (3)(6)(9)\n",
    "                statements\n",
    "            }\n",
    "        python:\n",
    "            for value in range(start,end,incre/decre):\n",
    "                statements\n",
    "    - while\n",
    "        c-->while(cond){\n",
    "            statements;\n",
    "            incre/decre\n",
    "        }\n",
    "        python:\n",
    "            while(cond):\n",
    "                statements\n",
    "                incre/decre\n",
    "    "
   ]
  },
  {
   "cell_type": "code",
   "execution_count": 66,
   "metadata": {},
   "outputs": [
    {
     "name": "stdout",
     "output_type": "stream",
     "text": [
      "20\n",
      "1 4 7 10 13 16 19 "
     ]
    }
   ],
   "source": [
    "#for examples:\n",
    "# to display natural numbers for given input\n",
    "# input:10\n",
    "# output:1 2 3 4 5 6 7 8 9 10 --->forward direction\n",
    "# output:10 9 8 7 6 5 4 3 2 1 -->backward \n",
    "# if you want ending value-->incluse n value(n+1)\n",
    "# if you dont want endint value -->exclusive (n)\n",
    "n=int(input())\n",
    "for i in range(1,n+1):\n",
    "    print(i,end=\" \")"
   ]
  },
  {
   "cell_type": "code",
   "execution_count": null,
   "metadata": {},
   "outputs": [],
   "source": []
  }
 ],
 "metadata": {
  "kernelspec": {
   "display_name": "Python 3",
   "language": "python",
   "name": "python3"
  },
  "language_info": {
   "codemirror_mode": {
    "name": "ipython",
    "version": 3
   },
   "file_extension": ".py",
   "mimetype": "text/x-python",
   "name": "python",
   "nbconvert_exporter": "python",
   "pygments_lexer": "ipython3",
   "version": "3.7.1"
  }
 },
 "nbformat": 4,
 "nbformat_minor": 2
}
